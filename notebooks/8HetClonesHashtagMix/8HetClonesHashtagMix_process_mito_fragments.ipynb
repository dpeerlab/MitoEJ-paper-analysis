{
 "cells": [
  {
   "cell_type": "code",
   "execution_count": 1,
   "id": "6fe20f39",
   "metadata": {},
   "outputs": [],
   "source": [
    "import pandas as pd\n",
    "import scanpy as sc\n",
    "import numpy as np\n",
    "import collections\n",
    "import seaborn as sns\n",
    "import matplotlib \n",
    "import matplotlib.pyplot as plt\n",
    "import os"
   ]
  },
  {
   "cell_type": "markdown",
   "id": "2fd6215a",
   "metadata": {},
   "source": [
    "## Get barcodes for each clone"
   ]
  },
  {
   "cell_type": "code",
   "execution_count": 2,
   "id": "4b476b06",
   "metadata": {},
   "outputs": [],
   "source": [
    "SAMPLE = \"YF-2818_8HetClonesHashtagMix_hLLL_multiome\""
   ]
  },
  {
   "cell_type": "markdown",
   "id": "2e0c672f",
   "metadata": {},
   "source": [
    "We use HTO output and save each clone barcode in a separate file."
   ]
  },
  {
   "cell_type": "code",
   "execution_count": 3,
   "id": "5dc296fc",
   "metadata": {},
   "outputs": [],
   "source": [
    "hto_adata_path = f'/data/peer/landm/Projects/sail-dogma/yi-clone-samples/data/{SAMPLE}/HTO/adataFinal_YF-2818_8HetClonesHashtagMix_hLLL_multiome.h5ad'"
   ]
  },
  {
   "cell_type": "code",
   "execution_count": 7,
   "id": "8abeeaed",
   "metadata": {},
   "outputs": [],
   "source": [
    "hto_adata = sc.read_h5ad(hto_adata_path)"
   ]
  },
  {
   "cell_type": "code",
   "execution_count": 16,
   "id": "449e737a",
   "metadata": {},
   "outputs": [],
   "source": [
    "hto_adata.obs['cr_barcodes'] = hto_adata.obs['barcode_sequence'] + '-1'"
   ]
  },
  {
   "cell_type": "code",
   "execution_count": 17,
   "id": "377ed228",
   "metadata": {},
   "outputs": [
    {
     "data": {
      "text/html": [
       "<div>\n",
       "<style scoped>\n",
       "    .dataframe tbody tr th:only-of-type {\n",
       "        vertical-align: middle;\n",
       "    }\n",
       "\n",
       "    .dataframe tbody tr th {\n",
       "        vertical-align: top;\n",
       "    }\n",
       "\n",
       "    .dataframe thead th {\n",
       "        text-align: right;\n",
       "    }\n",
       "</style>\n",
       "<table border=\"1\" class=\"dataframe\">\n",
       "  <thead>\n",
       "    <tr style=\"text-align: right;\">\n",
       "      <th></th>\n",
       "      <th>unmapped</th>\n",
       "      <th>barcode_sequence</th>\n",
       "      <th>hash_id</th>\n",
       "      <th>cr_barcodes</th>\n",
       "    </tr>\n",
       "    <tr>\n",
       "      <th>cell_barcodes</th>\n",
       "      <th></th>\n",
       "      <th></th>\n",
       "      <th></th>\n",
       "      <th></th>\n",
       "    </tr>\n",
       "  </thead>\n",
       "  <tbody>\n",
       "    <tr>\n",
       "      <th>AGCGCTCAGAACCTAC</th>\n",
       "      <td>91</td>\n",
       "      <td>AGCGCTCAGAACCTAC</td>\n",
       "      <td>Doublet</td>\n",
       "      <td>AGCGCTCAGAACCTAC-1</td>\n",
       "    </tr>\n",
       "    <tr>\n",
       "      <th>GGGTCAACAACAGCCT</th>\n",
       "      <td>112</td>\n",
       "      <td>GGGTCAACAACAGCCT</td>\n",
       "      <td>A0258</td>\n",
       "      <td>GGGTCAACAACAGCCT-1</td>\n",
       "    </tr>\n",
       "    <tr>\n",
       "      <th>GCGGAACCAGCATTAT</th>\n",
       "      <td>37</td>\n",
       "      <td>GCGGAACCAGCATTAT</td>\n",
       "      <td>A0257</td>\n",
       "      <td>GCGGAACCAGCATTAT-1</td>\n",
       "    </tr>\n",
       "    <tr>\n",
       "      <th>AGGCTAAAGTTGTCAA</th>\n",
       "      <td>83</td>\n",
       "      <td>AGGCTAAAGTTGTCAA</td>\n",
       "      <td>A0255</td>\n",
       "      <td>AGGCTAAAGTTGTCAA-1</td>\n",
       "    </tr>\n",
       "    <tr>\n",
       "      <th>GATTAGTGTACGATTG</th>\n",
       "      <td>30</td>\n",
       "      <td>GATTAGTGTACGATTG</td>\n",
       "      <td>A0254</td>\n",
       "      <td>GATTAGTGTACGATTG-1</td>\n",
       "    </tr>\n",
       "    <tr>\n",
       "      <th>...</th>\n",
       "      <td>...</td>\n",
       "      <td>...</td>\n",
       "      <td>...</td>\n",
       "      <td>...</td>\n",
       "    </tr>\n",
       "    <tr>\n",
       "      <th>CCCTCACCAATAAGCA</th>\n",
       "      <td>182</td>\n",
       "      <td>CCCTCACCAATAAGCA</td>\n",
       "      <td>A0253</td>\n",
       "      <td>CCCTCACCAATAAGCA-1</td>\n",
       "    </tr>\n",
       "    <tr>\n",
       "      <th>GCCTTAGAGTGAAGTG</th>\n",
       "      <td>113</td>\n",
       "      <td>GCCTTAGAGTGAAGTG</td>\n",
       "      <td>A0253</td>\n",
       "      <td>GCCTTAGAGTGAAGTG-1</td>\n",
       "    </tr>\n",
       "    <tr>\n",
       "      <th>TATCCGGAGCCGCAAC</th>\n",
       "      <td>162</td>\n",
       "      <td>TATCCGGAGCCGCAAC</td>\n",
       "      <td>A0258</td>\n",
       "      <td>TATCCGGAGCCGCAAC-1</td>\n",
       "    </tr>\n",
       "    <tr>\n",
       "      <th>CAGGGTGAGAACCTGT</th>\n",
       "      <td>83</td>\n",
       "      <td>CAGGGTGAGAACCTGT</td>\n",
       "      <td>Doublet</td>\n",
       "      <td>CAGGGTGAGAACCTGT-1</td>\n",
       "    </tr>\n",
       "    <tr>\n",
       "      <th>GATTTGCAGCATGTCG</th>\n",
       "      <td>64</td>\n",
       "      <td>GATTTGCAGCATGTCG</td>\n",
       "      <td>A0256</td>\n",
       "      <td>GATTTGCAGCATGTCG-1</td>\n",
       "    </tr>\n",
       "  </tbody>\n",
       "</table>\n",
       "<p>16150 rows × 4 columns</p>\n",
       "</div>"
      ],
      "text/plain": [
       "                  unmapped  barcode_sequence  hash_id         cr_barcodes\n",
       "cell_barcodes                                                            \n",
       "AGCGCTCAGAACCTAC        91  AGCGCTCAGAACCTAC  Doublet  AGCGCTCAGAACCTAC-1\n",
       "GGGTCAACAACAGCCT       112  GGGTCAACAACAGCCT    A0258  GGGTCAACAACAGCCT-1\n",
       "GCGGAACCAGCATTAT        37  GCGGAACCAGCATTAT    A0257  GCGGAACCAGCATTAT-1\n",
       "AGGCTAAAGTTGTCAA        83  AGGCTAAAGTTGTCAA    A0255  AGGCTAAAGTTGTCAA-1\n",
       "GATTAGTGTACGATTG        30  GATTAGTGTACGATTG    A0254  GATTAGTGTACGATTG-1\n",
       "...                    ...               ...      ...                 ...\n",
       "CCCTCACCAATAAGCA       182  CCCTCACCAATAAGCA    A0253  CCCTCACCAATAAGCA-1\n",
       "GCCTTAGAGTGAAGTG       113  GCCTTAGAGTGAAGTG    A0253  GCCTTAGAGTGAAGTG-1\n",
       "TATCCGGAGCCGCAAC       162  TATCCGGAGCCGCAAC    A0258  TATCCGGAGCCGCAAC-1\n",
       "CAGGGTGAGAACCTGT        83  CAGGGTGAGAACCTGT  Doublet  CAGGGTGAGAACCTGT-1\n",
       "GATTTGCAGCATGTCG        64  GATTTGCAGCATGTCG    A0256  GATTTGCAGCATGTCG-1\n",
       "\n",
       "[16150 rows x 4 columns]"
      ]
     },
     "execution_count": 17,
     "metadata": {},
     "output_type": "execute_result"
    }
   ],
   "source": [
    "hto_adata.obs"
   ]
  },
  {
   "cell_type": "code",
   "execution_count": 18,
   "id": "39f571f1",
   "metadata": {},
   "outputs": [],
   "source": [
    "hto_barcodes = hto_adata.obs['cr_barcodes'].values"
   ]
  },
  {
   "cell_type": "code",
   "execution_count": 36,
   "id": "fb4ebf21",
   "metadata": {},
   "outputs": [
    {
     "data": {
      "text/plain": [
       "<Axes: xlabel='Hash Id', ylabel='count'>"
      ]
     },
     "execution_count": 36,
     "metadata": {},
     "output_type": "execute_result"
    },
    {
     "data": {
      "image/png": "[encoded data removed]",
      "text/plain": [
       "<Figure size 640x480 with 1 Axes>"
      ]
     },
     "metadata": {},
     "output_type": "display_data"
    }
   ],
   "source": [
    "count_dict = collections.Counter(hto_adata.obs['hash_id'])\n",
    "del count_dict['Doublet']\n",
    "temp_df = pd.DataFrame.from_dict(count_dict, orient = 'index').reset_index()\n",
    "temp_df.columns = ['Hash Id', 'count']\n",
    "\n",
    "sns.barplot(data = temp_df, x = 'Hash Id', y = 'count')"
   ]
  },
  {
   "cell_type": "markdown",
   "id": "af96b957",
   "metadata": {},
   "source": [
    "Next, we cross reference with 10x filtered barcodes."
   ]
  },
  {
   "cell_type": "code",
   "execution_count": 9,
   "id": "bea7e0d6",
   "metadata": {},
   "outputs": [],
   "source": [
    "adata_path = '/data/peer/landm/Projects/sail-dogma/yi-clone-samples/data/YF-2818_8HetClonesHashtagMix_hLLL_multiome/cr-arc-results/filtered_feature_bc_matrix.h5'"
   ]
  },
  {
   "cell_type": "code",
   "execution_count": 10,
   "id": "77f56494",
   "metadata": {},
   "outputs": [
    {
     "name": "stderr",
     "output_type": "stream",
     "text": [
      "/home/landm/anaconda3/envs/scanpy/lib/python3.8/site-packages/anndata/_core/anndata.py:1840: UserWarning: Variable names are not unique. To make them unique, call `.var_names_make_unique`.\n",
      "  utils.warn_names_duplicates(\"var\")\n",
      "/home/landm/anaconda3/envs/scanpy/lib/python3.8/site-packages/anndata/_core/anndata.py:1840: UserWarning: Variable names are not unique. To make them unique, call `.var_names_make_unique`.\n",
      "  utils.warn_names_duplicates(\"var\")\n"
     ]
    }
   ],
   "source": [
    "adata = sc.read_10x_h5(adata_path)"
   ]
  },
  {
   "cell_type": "code",
   "execution_count": 13,
   "id": "91eb49ba",
   "metadata": {},
   "outputs": [],
   "source": [
    "cr_barcodes = adata.obs_names"
   ]
  },
  {
   "cell_type": "code",
   "execution_count": 41,
   "id": "49a6ef9e",
   "metadata": {},
   "outputs": [
    {
     "name": "stdout",
     "output_type": "stream",
     "text": [
      "HTO Barcodes: 16150 barcodes.\n",
      "Shared Barcodes: 16150 barcodes.\n"
     ]
    }
   ],
   "source": [
    "print(f\"HTO Barcodes: {len(hto_barcodes)} barcodes.\")\n",
    "print(f\"Shared Barcodes: {len(set(hto_barcodes).intersection(set(cr_barcodes)))} barcodes.\")\n"
   ]
  },
  {
   "cell_type": "markdown",
   "id": "4cb8f0f9",
   "metadata": {},
   "source": [
    "All HTO barcodes are in 10x filtered barcodes. Next, we split and save each sample into a `barcodes.csv`"
   ]
  },
  {
   "cell_type": "code",
   "execution_count": 4,
   "id": "7d6743b0",
   "metadata": {},
   "outputs": [],
   "source": [
    "by_clone_cache_dir = f'/data/peer/landm/Projects/sail-dogma/yi-clone-samples/cache/{SAMPLE}/by_clone/'\n",
    "\n",
    "if not os.path.exists(f\"{by_clone_cache_dir}\"):\n",
    "    os.mkdir(by_clone_cache_dir)"
   ]
  },
  {
   "cell_type": "code",
   "execution_count": 68,
   "id": "d2fa2f0c",
   "metadata": {},
   "outputs": [],
   "source": [
    "for hash_id in np.unique(hto_adata.obs['hash_id']):\n",
    "    if hash_id != 'Doublet':\n",
    "        new_dir = f\"{by_clone_cache_dir}{hash_id}/mito/\"\n",
    "        if not os.path.exists(f\"{new_dir}\"):\n",
    "            os.mkdir(new_dir)\n",
    "        \n",
    "        barcodes_df = pd.DataFrame(hto_adata[hto_adata.obs['hash_id'] == hash_id].obs['cr_barcodes'])\n",
    "        barcodes_df.to_csv(f\"{new_dir}barcodes.tsv\", index = None, header = None)\n"
   ]
  },
  {
   "cell_type": "markdown",
   "id": "84be5aa3",
   "metadata": {},
   "source": [
    "# Process Mito Fragment Counts per Clone"
   ]
  },
  {
   "cell_type": "markdown",
   "id": "a789b097",
   "metadata": {},
   "source": [
    "# 00 Getting ATAC Fragments"
   ]
  },
  {
   "cell_type": "markdown",
   "id": "3c0de646",
   "metadata": {},
   "source": [
    "**NOTE:** We obtained our mito fragments from the fastq files by running Cellranger ARC for multiomic data. \n",
    "\n",
    "**However, we made the following changes to run Cellranger ARC:**\n",
    "- Used a custom CellRanger ARC reference genome. We blacklisted nuclear regions that were homologous to the mitochondrial genome in our reference genome. We followed the steps here (https://github.com/caleblareau/mitoblacklist). This prevents mito reads from being multimapped and thrown out and increased the coverage of our mitochondrial reads.\n",
    "- Move `chrM` from `non_nuclear_contigs` to `primary_contigs` in the CellRanger ARC configuration file. This ensures the mitochondrial reads are not discarded during processing.\n",
    "\n",
    "After processing, CellRanger ARC provides us with `atac_fragments.tsv.gz` as output. This file contains information on all the ATAC fragments sequenced. This file is used as input for the next steps of processing:"
   ]
  },
  {
   "cell_type": "markdown",
   "id": "fcfdb59a",
   "metadata": {},
   "source": [
    "Step 01 subsets the CR-Arc fragments for Mito fragments. We do this once for all barcodes.\n",
    "\n",
    "Step 02 and 03 are then done for **each clone** (by subsetting using the barcodes above)."
   ]
  },
  {
   "cell_type": "code",
   "execution_count": 3,
   "id": "49f6f249",
   "metadata": {},
   "outputs": [],
   "source": [
    "fragments_path = f'/data/peer/landm/Projects/sail-dogma/yi-clone-samples/data/{SAMPLE}/cr-arc-results/atac_fragments.tsv.gz'\n",
    "cache_dir = f'/data/peer/landm/Projects/sail-dogma/yi-clone-samples/cache/'\n",
    "by_clone_cache_dir = f'/data/peer/landm/Projects/sail-dogma/yi-clone-samples/cache/{SAMPLE}/by_clone/'"
   ]
  },
  {
   "cell_type": "markdown",
   "id": "04e0763b",
   "metadata": {},
   "source": [
    "# 01 Subset Multiome ATAC fragments to just Mito"
   ]
  },
  {
   "cell_type": "code",
   "execution_count": null,
   "id": "a65190b2",
   "metadata": {},
   "outputs": [],
   "source": [
    "fragments = pd.read_csv(f\"{fragments_path}\", compression='gzip', header = None, sep='\\t', quotechar='\"', comment = '#')\n",
    "mito_fragments = fragments[fragments[0] == 'chrM']\n",
    "print(f'{mito_fragments.shape[0]} mitochondrial fragments')\n",
    "\n",
    "# Annotate fragments by where they fall on the genome\n",
    "# TODO: This doesn't take into account a fragment that can span multiple genes\n",
    "mito_fragments['gene'] = 'chrM'\n",
    "mito_fragments.columns = ['chromosome', 'start', 'end', 'barcode', 'umis', 'gene']\n",
    "for row in mito_genes.iterrows():\n",
    "    row = row[1]\n",
    "    start = row['start']\n",
    "    end = row['end']\n",
    "\n",
    "    mito_fragments.loc[(mito_fragments['start']>=start) & (mito_fragments['end'] < end), 'gene'] = row['gene_name']\n",
    "# mito_fragments.head()\n",
    "\n",
    "mito_dir = f\"{cache_dir}{SAMPLE}/mito/\"\n",
    "if not os.path.exists(mito_dir):\n",
    "    os.mkdir(mito_dir)\n",
    "mito_fragments.to_csv(f'{mito_dir}mito_fragments.csv')\n",
    "\n",
    "# Get counts for each gene per cell barcode\n",
    "mito_counts = mito_fragments[['barcode', 'gene']].groupby('barcode').value_counts().unstack(fill_value = 0)\n",
    "mito_counts.head()\n",
    "mito_counts.to_csv(f'{mito_dir}mito_fragments_counts.csv')"
   ]
  },
  {
   "cell_type": "markdown",
   "id": "26617bcb",
   "metadata": {},
   "source": [
    "## Optional: Filter each into separate dfs for each clone."
   ]
  },
  {
   "cell_type": "markdown",
   "id": "8c919a82",
   "metadata": {},
   "source": [
    "In our case, we separated the mito fragments file by clone to make the next steps computationally faster. Otherwise we would first have to filter the entire mito fragments file for each clone."
   ]
  },
  {
   "cell_type": "code",
   "execution_count": 6,
   "id": "a7caae05",
   "metadata": {},
   "outputs": [],
   "source": [
    "mito_frag_path = f'{cache_dir}{SAMPLE}/mito/mito_fragments.csv'\n",
    "\n",
    "df = pd.read_csv(f'{mito_dir}mito_fragments.csv', index_col = 0) "
   ]
  },
  {
   "cell_type": "code",
   "execution_count": 18,
   "id": "a13dcd73",
   "metadata": {},
   "outputs": [],
   "source": [
    "for clone in os.listdir(by_clone_cache_dir):\n",
    "    barcodes_path = f\"{by_clone_cache_dir}{clone}/mito/barcodes.tsv\"\n",
    "    barcodes = pd.read_csv(barcodes_path, index_col = None, header = None)\n",
    "    out_path = f\"{by_clone_cache_dir}{clone}/mito/mito_fragments.csv\"\n",
    "    # df[df['barcode'].isin(barcodes.values.flatten())].to_csv(out_path)"
   ]
  },
  {
   "cell_type": "markdown",
   "id": "8ef588c9",
   "metadata": {},
   "source": [
    "## Split frags greater than 3000 bp\n",
    "\n",
    "From other analysis, we know that frags greater than 3000 bp mostly span the deleted region and are therefore representative of endjoined mito. Thus, we split the fragments into two with a padding of 50. \n",
    "\n",
    "For example,\n",
    "\n",
    "Fragment `7692 - 11869` --> `7692 - 7742` and `11819 - 11869`"
   ]
  },
  {
   "cell_type": "code",
   "execution_count": 52,
   "id": "b0eb11c9",
   "metadata": {},
   "outputs": [],
   "source": [
    "def split_long_frag_df(df, frag_threshold, padding):\n",
    "    assert padding >= 0, \"padding must be positive\"\n",
    "    \n",
    "    long_frags_df = df[(df['end'] - df['start']) >= frag_threshold]\n",
    "    start_frags_df =  long_frags_df.copy()\n",
    "    start_frags_df['end'] = start_frags_df['start'] + padding\n",
    "    end_frags_df =  long_frags_df.copy()\n",
    "    end_frags_df['start'] = end_frags_df['end'] - padding\n",
    "    \n",
    "    \n",
    "    return pd.concat([start_frags_df, end_frags_df]).sort_values('start')"
   ]
  },
  {
   "cell_type": "code",
   "execution_count": 53,
   "id": "dbe4ab97",
   "metadata": {},
   "outputs": [],
   "source": [
    "frag_threshold = 3000\n",
    "padding = 50\n",
    "\n",
    "for clone in os.listdir(by_clone_cache_dir):\n",
    "    unfilt_path = f\"{by_clone_cache_dir}{clone}/mito/mito_fragments.csv\"\n",
    "    filt_path = f\"{by_clone_cache_dir}{clone}/mito/mito_fragments_split_{frag_threshold}_bp_frags.csv\"\n",
    "    \n",
    "    df = pd.read_csv(unfilt_path, index_col = 0)\n",
    "    no_long_frags_df = df[(df['end'] - df['start']) < frag_threshold]\n",
    "    split_frags_df = split_long_frag_df(df, frag_threshold, padding)\n",
    "    new_frags_df = pd.concat([no_long_frags_df, split_frags_df]).sort_values('start')\n",
    "    \n",
    "    # new_frags_df.to_csv(filt_path)"
   ]
  },
  {
   "cell_type": "code",
   "execution_count": 57,
   "id": "6cf50e41",
   "metadata": {},
   "outputs": [
    {
     "data": {
      "text/html": [
       "<div>\n",
       "<style scoped>\n",
       "    .dataframe tbody tr th:only-of-type {\n",
       "        vertical-align: middle;\n",
       "    }\n",
       "\n",
       "    .dataframe tbody tr th {\n",
       "        vertical-align: top;\n",
       "    }\n",
       "\n",
       "    .dataframe thead th {\n",
       "        text-align: right;\n",
       "    }\n",
       "</style>\n",
       "<table border=\"1\" class=\"dataframe\">\n",
       "  <thead>\n",
       "    <tr style=\"text-align: right;\">\n",
       "      <th></th>\n",
       "      <th>chromosome</th>\n",
       "      <th>start</th>\n",
       "      <th>end</th>\n",
       "      <th>barcode</th>\n",
       "      <th>umis</th>\n",
       "      <th>gene</th>\n",
       "    </tr>\n",
       "  </thead>\n",
       "  <tbody>\n",
       "    <tr>\n",
       "      <th>203821859</th>\n",
       "      <td>chrM</td>\n",
       "      <td>4</td>\n",
       "      <td>24</td>\n",
       "      <td>CTGATCACACTTACAG-1</td>\n",
       "      <td>1</td>\n",
       "      <td>chrM</td>\n",
       "    </tr>\n",
       "    <tr>\n",
       "      <th>203833529</th>\n",
       "      <td>chrM</td>\n",
       "      <td>4</td>\n",
       "      <td>105</td>\n",
       "      <td>GCAGCCAGTATTGGAT-1</td>\n",
       "      <td>1</td>\n",
       "      <td>chrM</td>\n",
       "    </tr>\n",
       "    <tr>\n",
       "      <th>203833526</th>\n",
       "      <td>chrM</td>\n",
       "      <td>4</td>\n",
       "      <td>105</td>\n",
       "      <td>GCAACAGCAATTGCGC-1</td>\n",
       "      <td>2</td>\n",
       "      <td>chrM</td>\n",
       "    </tr>\n",
       "    <tr>\n",
       "      <th>203833460</th>\n",
       "      <td>chrM</td>\n",
       "      <td>4</td>\n",
       "      <td>105</td>\n",
       "      <td>CATGAGGCAGTCTATG-1</td>\n",
       "      <td>1</td>\n",
       "      <td>chrM</td>\n",
       "    </tr>\n",
       "    <tr>\n",
       "      <th>203833457</th>\n",
       "      <td>chrM</td>\n",
       "      <td>4</td>\n",
       "      <td>105</td>\n",
       "      <td>CATAATCCAATCATGT-1</td>\n",
       "      <td>1</td>\n",
       "      <td>chrM</td>\n",
       "    </tr>\n",
       "    <tr>\n",
       "      <th>...</th>\n",
       "      <td>...</td>\n",
       "      <td>...</td>\n",
       "      <td>...</td>\n",
       "      <td>...</td>\n",
       "      <td>...</td>\n",
       "      <td>...</td>\n",
       "    </tr>\n",
       "    <tr>\n",
       "      <th>289860924</th>\n",
       "      <td>chrM</td>\n",
       "      <td>16553</td>\n",
       "      <td>16569</td>\n",
       "      <td>TTCCACGGTCATTGTC-1</td>\n",
       "      <td>1</td>\n",
       "      <td>chrM</td>\n",
       "    </tr>\n",
       "    <tr>\n",
       "      <th>289860880</th>\n",
       "      <td>chrM</td>\n",
       "      <td>16553</td>\n",
       "      <td>16569</td>\n",
       "      <td>AATATCCCACCCACAG-1</td>\n",
       "      <td>2</td>\n",
       "      <td>chrM</td>\n",
       "    </tr>\n",
       "    <tr>\n",
       "      <th>289860898</th>\n",
       "      <td>chrM</td>\n",
       "      <td>16553</td>\n",
       "      <td>16569</td>\n",
       "      <td>CGCTGTGCAGCAACCT-1</td>\n",
       "      <td>1</td>\n",
       "      <td>chrM</td>\n",
       "    </tr>\n",
       "    <tr>\n",
       "      <th>289860899</th>\n",
       "      <td>chrM</td>\n",
       "      <td>16553</td>\n",
       "      <td>16569</td>\n",
       "      <td>CGGTTATAGTCATTTC-1</td>\n",
       "      <td>1</td>\n",
       "      <td>chrM</td>\n",
       "    </tr>\n",
       "    <tr>\n",
       "      <th>289860913</th>\n",
       "      <td>chrM</td>\n",
       "      <td>16553</td>\n",
       "      <td>16569</td>\n",
       "      <td>GCGTGCTAGCAGCTCA-1</td>\n",
       "      <td>1</td>\n",
       "      <td>chrM</td>\n",
       "    </tr>\n",
       "  </tbody>\n",
       "</table>\n",
       "<p>6794840 rows × 6 columns</p>\n",
       "</div>"
      ],
      "text/plain": [
       "          chromosome  start    end             barcode  umis  gene\n",
       "203821859       chrM      4     24  CTGATCACACTTACAG-1     1  chrM\n",
       "203833529       chrM      4    105  GCAGCCAGTATTGGAT-1     1  chrM\n",
       "203833526       chrM      4    105  GCAACAGCAATTGCGC-1     2  chrM\n",
       "203833460       chrM      4    105  CATGAGGCAGTCTATG-1     1  chrM\n",
       "203833457       chrM      4    105  CATAATCCAATCATGT-1     1  chrM\n",
       "...              ...    ...    ...                 ...   ...   ...\n",
       "289860924       chrM  16553  16569  TTCCACGGTCATTGTC-1     1  chrM\n",
       "289860880       chrM  16553  16569  AATATCCCACCCACAG-1     2  chrM\n",
       "289860898       chrM  16553  16569  CGCTGTGCAGCAACCT-1     1  chrM\n",
       "289860899       chrM  16553  16569  CGGTTATAGTCATTTC-1     1  chrM\n",
       "289860913       chrM  16553  16569  GCGTGCTAGCAGCTCA-1     1  chrM\n",
       "\n",
       "[6794840 rows x 6 columns]"
      ]
     },
     "execution_count": 57,
     "metadata": {},
     "output_type": "execute_result"
    }
   ],
   "source": [
    "new_frags_df"
   ]
  },
  {
   "cell_type": "markdown",
   "id": "e7aee0f0",
   "metadata": {},
   "source": [
    "# 02 Generate Bulk Mitochondrial Coverage Plots\n",
    "\n",
    "This step just gives you an initial visualization of your mito coverage in bulk. You may choose to skip and generate coverage at a single-cell level, and then plot those results. \n",
    "\n",
    "Note you can also obtain these bulk results coverage after generating single-cell coverage results-- the reason this is a separate step is that assigning reads at single-cell level is slow. So if you just want mito coverage in bulk, this is a way to do it without running step 03."
   ]
  },
  {
   "cell_type": "markdown",
   "id": "7a12b423",
   "metadata": {},
   "source": [
    "First, for each clone, we count the number of fragments that overlap each basepair from 0-16569 and save it as a dataframe."
   ]
  },
  {
   "cell_type": "code",
   "execution_count": 54,
   "id": "090f91f6",
   "metadata": {},
   "outputs": [
    {
     "name": "stdout",
     "output_type": "stream",
     "text": [
      "Job <4908470> is submitted to default queue <cpuqueue>.\n",
      "bsub -J A0257_coverage -n 5 -R rusage[mem=10] -W 2:00 -o A0257.stdout -eo A0257.stdout \"source ~/.bashrc; conda activate scanpy; python /data/peer/landm/Projects/sail-dogma/scripts/coverage/make_coverage.py --mito_genes_path /data/peer/landm/Projects/sail-dogma/4-cell-line/cache/mito_processing_cache/mito_genes.csv --mito_fragments_path /data/peer/landm/Projects/sail-dogma/yi-clone-samples/cache/YF-2818_8HetClonesHashtagMix_hLLL_multiome/by_clone/A0257/mito/mito_fragments_split_3000_bp_frags.csv --barcodes_path /data/peer/landm/Projects/sail-dogma/yi-clone-samples/cache/YF-2818_8HetClonesHashtagMix_hLLL_multiome/by_clone/A0257/mito/barcodes.tsv --out_path /data/peer/landm/Projects/sail-dogma/yi-clone-samples/cache/YF-2818_8HetClonesHashtagMix_hLLL_multiome/by_clone/A0257/mito/mito_fragments_split_3000_bp_frags_coverage_filt.csv\"\n",
      "\n",
      "Job <4908472> is submitted to default queue <cpuqueue>.\n",
      "bsub -J A0256_coverage -n 5 -R rusage[mem=10] -W 2:00 -o A0256.stdout -eo A0256.stdout \"source ~/.bashrc; conda activate scanpy; python /data/peer/landm/Projects/sail-dogma/scripts/coverage/make_coverage.py --mito_genes_path /data/peer/landm/Projects/sail-dogma/4-cell-line/cache/mito_processing_cache/mito_genes.csv --mito_fragments_path /data/peer/landm/Projects/sail-dogma/yi-clone-samples/cache/YF-2818_8HetClonesHashtagMix_hLLL_multiome/by_clone/A0256/mito/mito_fragments_split_3000_bp_frags.csv --barcodes_path /data/peer/landm/Projects/sail-dogma/yi-clone-samples/cache/YF-2818_8HetClonesHashtagMix_hLLL_multiome/by_clone/A0256/mito/barcodes.tsv --out_path /data/peer/landm/Projects/sail-dogma/yi-clone-samples/cache/YF-2818_8HetClonesHashtagMix_hLLL_multiome/by_clone/A0256/mito/mito_fragments_split_3000_bp_frags_coverage_filt.csv\"\n",
      "\n",
      "Job <4908473> is submitted to default queue <cpuqueue>.\n",
      "bsub -J A0253_coverage -n 5 -R rusage[mem=10] -W 2:00 -o A0253.stdout -eo A0253.stdout \"source ~/.bashrc; conda activate scanpy; python /data/peer/landm/Projects/sail-dogma/scripts/coverage/make_coverage.py --mito_genes_path /data/peer/landm/Projects/sail-dogma/4-cell-line/cache/mito_processing_cache/mito_genes.csv --mito_fragments_path /data/peer/landm/Projects/sail-dogma/yi-clone-samples/cache/YF-2818_8HetClonesHashtagMix_hLLL_multiome/by_clone/A0253/mito/mito_fragments_split_3000_bp_frags.csv --barcodes_path /data/peer/landm/Projects/sail-dogma/yi-clone-samples/cache/YF-2818_8HetClonesHashtagMix_hLLL_multiome/by_clone/A0253/mito/barcodes.tsv --out_path /data/peer/landm/Projects/sail-dogma/yi-clone-samples/cache/YF-2818_8HetClonesHashtagMix_hLLL_multiome/by_clone/A0253/mito/mito_fragments_split_3000_bp_frags_coverage_filt.csv\"\n",
      "\n",
      "Job <4908474> is submitted to default queue <cpuqueue>.\n",
      "bsub -J A0258_coverage -n 5 -R rusage[mem=10] -W 2:00 -o A0258.stdout -eo A0258.stdout \"source ~/.bashrc; conda activate scanpy; python /data/peer/landm/Projects/sail-dogma/scripts/coverage/make_coverage.py --mito_genes_path /data/peer/landm/Projects/sail-dogma/4-cell-line/cache/mito_processing_cache/mito_genes.csv --mito_fragments_path /data/peer/landm/Projects/sail-dogma/yi-clone-samples/cache/YF-2818_8HetClonesHashtagMix_hLLL_multiome/by_clone/A0258/mito/mito_fragments_split_3000_bp_frags.csv --barcodes_path /data/peer/landm/Projects/sail-dogma/yi-clone-samples/cache/YF-2818_8HetClonesHashtagMix_hLLL_multiome/by_clone/A0258/mito/barcodes.tsv --out_path /data/peer/landm/Projects/sail-dogma/yi-clone-samples/cache/YF-2818_8HetClonesHashtagMix_hLLL_multiome/by_clone/A0258/mito/mito_fragments_split_3000_bp_frags_coverage_filt.csv\"\n",
      "\n",
      "Job <4908475> is submitted to default queue <cpuqueue>.\n",
      "bsub -J A0255_coverage -n 5 -R rusage[mem=10] -W 2:00 -o A0255.stdout -eo A0255.stdout \"source ~/.bashrc; conda activate scanpy; python /data/peer/landm/Projects/sail-dogma/scripts/coverage/make_coverage.py --mito_genes_path /data/peer/landm/Projects/sail-dogma/4-cell-line/cache/mito_processing_cache/mito_genes.csv --mito_fragments_path /data/peer/landm/Projects/sail-dogma/yi-clone-samples/cache/YF-2818_8HetClonesHashtagMix_hLLL_multiome/by_clone/A0255/mito/mito_fragments_split_3000_bp_frags.csv --barcodes_path /data/peer/landm/Projects/sail-dogma/yi-clone-samples/cache/YF-2818_8HetClonesHashtagMix_hLLL_multiome/by_clone/A0255/mito/barcodes.tsv --out_path /data/peer/landm/Projects/sail-dogma/yi-clone-samples/cache/YF-2818_8HetClonesHashtagMix_hLLL_multiome/by_clone/A0255/mito/mito_fragments_split_3000_bp_frags_coverage_filt.csv\"\n",
      "\n",
      "Job <4908476> is submitted to default queue <cpuqueue>.\n",
      "bsub -J A0252_coverage -n 5 -R rusage[mem=10] -W 2:00 -o A0252.stdout -eo A0252.stdout \"source ~/.bashrc; conda activate scanpy; python /data/peer/landm/Projects/sail-dogma/scripts/coverage/make_coverage.py --mito_genes_path /data/peer/landm/Projects/sail-dogma/4-cell-line/cache/mito_processing_cache/mito_genes.csv --mito_fragments_path /data/peer/landm/Projects/sail-dogma/yi-clone-samples/cache/YF-2818_8HetClonesHashtagMix_hLLL_multiome/by_clone/A0252/mito/mito_fragments_split_3000_bp_frags.csv --barcodes_path /data/peer/landm/Projects/sail-dogma/yi-clone-samples/cache/YF-2818_8HetClonesHashtagMix_hLLL_multiome/by_clone/A0252/mito/barcodes.tsv --out_path /data/peer/landm/Projects/sail-dogma/yi-clone-samples/cache/YF-2818_8HetClonesHashtagMix_hLLL_multiome/by_clone/A0252/mito/mito_fragments_split_3000_bp_frags_coverage_filt.csv\"\n",
      "\n",
      "Job <4908477> is submitted to default queue <cpuqueue>.\n",
      "bsub -J A0254_coverage -n 5 -R rusage[mem=10] -W 2:00 -o A0254.stdout -eo A0254.stdout \"source ~/.bashrc; conda activate scanpy; python /data/peer/landm/Projects/sail-dogma/scripts/coverage/make_coverage.py --mito_genes_path /data/peer/landm/Projects/sail-dogma/4-cell-line/cache/mito_processing_cache/mito_genes.csv --mito_fragments_path /data/peer/landm/Projects/sail-dogma/yi-clone-samples/cache/YF-2818_8HetClonesHashtagMix_hLLL_multiome/by_clone/A0254/mito/mito_fragments_split_3000_bp_frags.csv --barcodes_path /data/peer/landm/Projects/sail-dogma/yi-clone-samples/cache/YF-2818_8HetClonesHashtagMix_hLLL_multiome/by_clone/A0254/mito/barcodes.tsv --out_path /data/peer/landm/Projects/sail-dogma/yi-clone-samples/cache/YF-2818_8HetClonesHashtagMix_hLLL_multiome/by_clone/A0254/mito/mito_fragments_split_3000_bp_frags_coverage_filt.csv\"\n",
      "\n",
      "Job <4908478> is submitted to default queue <cpuqueue>.\n",
      "bsub -J A0251_coverage -n 5 -R rusage[mem=10] -W 2:00 -o A0251.stdout -eo A0251.stdout \"source ~/.bashrc; conda activate scanpy; python /data/peer/landm/Projects/sail-dogma/scripts/coverage/make_coverage.py --mito_genes_path /data/peer/landm/Projects/sail-dogma/4-cell-line/cache/mito_processing_cache/mito_genes.csv --mito_fragments_path /data/peer/landm/Projects/sail-dogma/yi-clone-samples/cache/YF-2818_8HetClonesHashtagMix_hLLL_multiome/by_clone/A0251/mito/mito_fragments_split_3000_bp_frags.csv --barcodes_path /data/peer/landm/Projects/sail-dogma/yi-clone-samples/cache/YF-2818_8HetClonesHashtagMix_hLLL_multiome/by_clone/A0251/mito/barcodes.tsv --out_path /data/peer/landm/Projects/sail-dogma/yi-clone-samples/cache/YF-2818_8HetClonesHashtagMix_hLLL_multiome/by_clone/A0251/mito/mito_fragments_split_3000_bp_frags_coverage_filt.csv\"\n",
      "\n"
     ]
    }
   ],
   "source": [
    "# relative to repo\n",
    "cov_script = \"../../scripts/make_coverage.py\"\n",
    "mito_genes_path = '../../misc/mito_genes.csv'\n",
    "\n",
    "for clone in os.listdir(by_clone_cache_dir):\n",
    "    # input path to mito fragments \n",
    "    mito_frag_path = f'{by_clone_cache_dir}{clone}/mito/mito_fragments_split_3000_bp_frags.csv'\n",
    "    # input path to cell barcodes for sample\n",
    "    barcodes_path = f\"{by_clone_cache_dir}{clone}/mito/barcodes.tsv\"\n",
    "    # output path to store bulk coverage csv\n",
    "    out_path = f\"{by_clone_cache_dir}{clone}/mito/mito_fragments_split_3000_bp_frags_coverage_filt.csv\"\n",
    "    memory = 10\n",
    "    conda_env = 'scanpy'\n",
    "    options = dict()\n",
    "    options['J'] = f'{clone}_coverage'\n",
    "    options['n'] = f'5'\n",
    "    options['R'] = f'rusage[mem={memory}]'\n",
    "    options['W'] = f'2:00'\n",
    "    options['o'] = f'{clone}.stdout'\n",
    "    options['eo'] = f'{clone}.stdout'\n",
    "\n",
    "\n",
    "    if os.path.exists(options['o']):\n",
    "        os.remove(options['o'])\n",
    "\n",
    "    option_string = ' '.join([f'-{flag} {val}' for flag, val in options.items()])\n",
    "    job_string = f\"source ~/.bashrc; conda activate {conda_env};\"\n",
    "    \n",
    "    # THIS IS THE ACTUAL COMMAND LINE TO RUN THE SCRIPT (everything else is to allow it to run on MSKCC servers)\n",
    "    run_script_string = f\"python {cov_script} --mito_genes_path {mito_genes_path} --mito_fragments_path {mito_frag_path}\"\n",
    "    script2 = f\"--barcodes_path {barcodes_path} --out_path {out_path}\"\n",
    "\n",
    "    command = f'bsub {option_string} \\\"{job_string} {run_script_string} {script2}\"'\n",
    "    os.system(command)\n",
    "    print(command + '\\n')"
   ]
  },
  {
   "cell_type": "markdown",
   "id": "52fd299b",
   "metadata": {},
   "source": [
    "The following code takes the dataframe generated above and plots it."
   ]
  },
  {
   "cell_type": "code",
   "execution_count": 55,
   "id": "76d691b0",
   "metadata": {},
   "outputs": [
    {
     "name": "stdout",
     "output_type": "stream",
     "text": [
      "Job <4908670> is submitted to default queue <cpuqueue>.\n",
      "bsub -J A0257_coverage -n 5 -R rusage[mem=10] -W 2:00 -o A0257.stdout -eo A0257.stdout \"source ~/.bashrc; conda activate scanpy; python /data/peer/landm/Projects/sail-dogma/scripts/coverage/plot_coverage.py --mito_genes_path /data/peer/landm/Projects/sail-dogma/4-cell-line/cache/mito_processing_cache/mito_genes.csv --cov_path /data/peer/landm/Projects/sail-dogma/yi-clone-samples/cache/YF-2818_8HetClonesHashtagMix_hLLL_multiome/by_clone/A0257/mito/mito_fragments_split_3000_bp_frags_coverage_filt.csv --barcodes_path /data/peer/landm/Projects/sail-dogma/yi-clone-samples/cache/YF-2818_8HetClonesHashtagMix_hLLL_multiome/by_clone/A0257/mito/barcodes.tsv --out_path /data/peer/landm/Projects/sail-dogma/yi-clone-samples/cache/YF-2818_8HetClonesHashtagMix_hLLL_multiome/by_clone/A0257/mito/mito_split_3000_bp_frags_coverage_filt_plot_normalized.png --sample A0257\"\n",
      "\n",
      "Job <4908671> is submitted to default queue <cpuqueue>.\n",
      "bsub -J A0256_coverage -n 5 -R rusage[mem=10] -W 2:00 -o A0256.stdout -eo A0256.stdout \"source ~/.bashrc; conda activate scanpy; python /data/peer/landm/Projects/sail-dogma/scripts/coverage/plot_coverage.py --mito_genes_path /data/peer/landm/Projects/sail-dogma/4-cell-line/cache/mito_processing_cache/mito_genes.csv --cov_path /data/peer/landm/Projects/sail-dogma/yi-clone-samples/cache/YF-2818_8HetClonesHashtagMix_hLLL_multiome/by_clone/A0256/mito/mito_fragments_split_3000_bp_frags_coverage_filt.csv --barcodes_path /data/peer/landm/Projects/sail-dogma/yi-clone-samples/cache/YF-2818_8HetClonesHashtagMix_hLLL_multiome/by_clone/A0256/mito/barcodes.tsv --out_path /data/peer/landm/Projects/sail-dogma/yi-clone-samples/cache/YF-2818_8HetClonesHashtagMix_hLLL_multiome/by_clone/A0256/mito/mito_split_3000_bp_frags_coverage_filt_plot_normalized.png --sample A0256\"\n",
      "\n",
      "Job <4908672> is submitted to default queue <cpuqueue>.\n",
      "bsub -J A0253_coverage -n 5 -R rusage[mem=10] -W 2:00 -o A0253.stdout -eo A0253.stdout \"source ~/.bashrc; conda activate scanpy; python /data/peer/landm/Projects/sail-dogma/scripts/coverage/plot_coverage.py --mito_genes_path /data/peer/landm/Projects/sail-dogma/4-cell-line/cache/mito_processing_cache/mito_genes.csv --cov_path /data/peer/landm/Projects/sail-dogma/yi-clone-samples/cache/YF-2818_8HetClonesHashtagMix_hLLL_multiome/by_clone/A0253/mito/mito_fragments_split_3000_bp_frags_coverage_filt.csv --barcodes_path /data/peer/landm/Projects/sail-dogma/yi-clone-samples/cache/YF-2818_8HetClonesHashtagMix_hLLL_multiome/by_clone/A0253/mito/barcodes.tsv --out_path /data/peer/landm/Projects/sail-dogma/yi-clone-samples/cache/YF-2818_8HetClonesHashtagMix_hLLL_multiome/by_clone/A0253/mito/mito_split_3000_bp_frags_coverage_filt_plot_normalized.png --sample A0253\"\n",
      "\n",
      "Job <4908673> is submitted to default queue <cpuqueue>.\n",
      "bsub -J A0258_coverage -n 5 -R rusage[mem=10] -W 2:00 -o A0258.stdout -eo A0258.stdout \"source ~/.bashrc; conda activate scanpy; python /data/peer/landm/Projects/sail-dogma/scripts/coverage/plot_coverage.py --mito_genes_path /data/peer/landm/Projects/sail-dogma/4-cell-line/cache/mito_processing_cache/mito_genes.csv --cov_path /data/peer/landm/Projects/sail-dogma/yi-clone-samples/cache/YF-2818_8HetClonesHashtagMix_hLLL_multiome/by_clone/A0258/mito/mito_fragments_split_3000_bp_frags_coverage_filt.csv --barcodes_path /data/peer/landm/Projects/sail-dogma/yi-clone-samples/cache/YF-2818_8HetClonesHashtagMix_hLLL_multiome/by_clone/A0258/mito/barcodes.tsv --out_path /data/peer/landm/Projects/sail-dogma/yi-clone-samples/cache/YF-2818_8HetClonesHashtagMix_hLLL_multiome/by_clone/A0258/mito/mito_split_3000_bp_frags_coverage_filt_plot_normalized.png --sample A0258\"\n",
      "\n",
      "Job <4908674> is submitted to default queue <cpuqueue>.\n",
      "bsub -J A0255_coverage -n 5 -R rusage[mem=10] -W 2:00 -o A0255.stdout -eo A0255.stdout \"source ~/.bashrc; conda activate scanpy; python /data/peer/landm/Projects/sail-dogma/scripts/coverage/plot_coverage.py --mito_genes_path /data/peer/landm/Projects/sail-dogma/4-cell-line/cache/mito_processing_cache/mito_genes.csv --cov_path /data/peer/landm/Projects/sail-dogma/yi-clone-samples/cache/YF-2818_8HetClonesHashtagMix_hLLL_multiome/by_clone/A0255/mito/mito_fragments_split_3000_bp_frags_coverage_filt.csv --barcodes_path /data/peer/landm/Projects/sail-dogma/yi-clone-samples/cache/YF-2818_8HetClonesHashtagMix_hLLL_multiome/by_clone/A0255/mito/barcodes.tsv --out_path /data/peer/landm/Projects/sail-dogma/yi-clone-samples/cache/YF-2818_8HetClonesHashtagMix_hLLL_multiome/by_clone/A0255/mito/mito_split_3000_bp_frags_coverage_filt_plot_normalized.png --sample A0255\"\n",
      "\n",
      "Job <4908675> is submitted to default queue <cpuqueue>.\n",
      "bsub -J A0252_coverage -n 5 -R rusage[mem=10] -W 2:00 -o A0252.stdout -eo A0252.stdout \"source ~/.bashrc; conda activate scanpy; python /data/peer/landm/Projects/sail-dogma/scripts/coverage/plot_coverage.py --mito_genes_path /data/peer/landm/Projects/sail-dogma/4-cell-line/cache/mito_processing_cache/mito_genes.csv --cov_path /data/peer/landm/Projects/sail-dogma/yi-clone-samples/cache/YF-2818_8HetClonesHashtagMix_hLLL_multiome/by_clone/A0252/mito/mito_fragments_split_3000_bp_frags_coverage_filt.csv --barcodes_path /data/peer/landm/Projects/sail-dogma/yi-clone-samples/cache/YF-2818_8HetClonesHashtagMix_hLLL_multiome/by_clone/A0252/mito/barcodes.tsv --out_path /data/peer/landm/Projects/sail-dogma/yi-clone-samples/cache/YF-2818_8HetClonesHashtagMix_hLLL_multiome/by_clone/A0252/mito/mito_split_3000_bp_frags_coverage_filt_plot_normalized.png --sample A0252\"\n",
      "\n",
      "Job <4908676> is submitted to default queue <cpuqueue>.\n",
      "bsub -J A0254_coverage -n 5 -R rusage[mem=10] -W 2:00 -o A0254.stdout -eo A0254.stdout \"source ~/.bashrc; conda activate scanpy; python /data/peer/landm/Projects/sail-dogma/scripts/coverage/plot_coverage.py --mito_genes_path /data/peer/landm/Projects/sail-dogma/4-cell-line/cache/mito_processing_cache/mito_genes.csv --cov_path /data/peer/landm/Projects/sail-dogma/yi-clone-samples/cache/YF-2818_8HetClonesHashtagMix_hLLL_multiome/by_clone/A0254/mito/mito_fragments_split_3000_bp_frags_coverage_filt.csv --barcodes_path /data/peer/landm/Projects/sail-dogma/yi-clone-samples/cache/YF-2818_8HetClonesHashtagMix_hLLL_multiome/by_clone/A0254/mito/barcodes.tsv --out_path /data/peer/landm/Projects/sail-dogma/yi-clone-samples/cache/YF-2818_8HetClonesHashtagMix_hLLL_multiome/by_clone/A0254/mito/mito_split_3000_bp_frags_coverage_filt_plot_normalized.png --sample A0254\"\n",
      "\n",
      "Job <4908677> is submitted to default queue <cpuqueue>.\n",
      "bsub -J A0251_coverage -n 5 -R rusage[mem=10] -W 2:00 -o A0251.stdout -eo A0251.stdout \"source ~/.bashrc; conda activate scanpy; python /data/peer/landm/Projects/sail-dogma/scripts/coverage/plot_coverage.py --mito_genes_path /data/peer/landm/Projects/sail-dogma/4-cell-line/cache/mito_processing_cache/mito_genes.csv --cov_path /data/peer/landm/Projects/sail-dogma/yi-clone-samples/cache/YF-2818_8HetClonesHashtagMix_hLLL_multiome/by_clone/A0251/mito/mito_fragments_split_3000_bp_frags_coverage_filt.csv --barcodes_path /data/peer/landm/Projects/sail-dogma/yi-clone-samples/cache/YF-2818_8HetClonesHashtagMix_hLLL_multiome/by_clone/A0251/mito/barcodes.tsv --out_path /data/peer/landm/Projects/sail-dogma/yi-clone-samples/cache/YF-2818_8HetClonesHashtagMix_hLLL_multiome/by_clone/A0251/mito/mito_split_3000_bp_frags_coverage_filt_plot_normalized.png --sample A0251\"\n",
      "\n"
     ]
    }
   ],
   "source": [
    "# relative to repo\n",
    "plot_script = \"../../scripts/plot_coverage.py\"\n",
    "mito_genes_path = '../../misc/mito_genes.csv'\n",
    "\n",
    "for clone in os.listdir(by_clone_cache_dir):\n",
    "    # input cell barcodes for sample\n",
    "    barcodes_path = f\"{by_clone_cache_dir}{clone}/mito/barcodes.tsv\"\n",
    "    # input bulk coverage csv (output of above code)\n",
    "    cov_path = f\"{by_clone_cache_dir}{clone}/mito/mito_fragments_split_3000_bp_frags_coverage_filt.csv\"\n",
    "    # output path to store result\n",
    "    out_path = f\"{by_clone_cache_dir}{clone}/mito/mito_split_3000_bp_frags_coverage_filt_plot_normalized.png\"\n",
    "    memory = 10\n",
    "    conda_env = 'scanpy'\n",
    "    options = dict()\n",
    "    options['J'] = f'{clone}_coverage'\n",
    "    options['n'] = f'5'\n",
    "    options['R'] = f'rusage[mem={memory}]'\n",
    "    options['W'] = f'2:00'\n",
    "    options['o'] = f'{clone}.stdout'\n",
    "    options['eo'] = f'{clone}.stdout'\n",
    "\n",
    "\n",
    "    if os.path.exists(options['o']):\n",
    "        os.remove(options['o'])\n",
    "\n",
    "    option_string = ' '.join([f'-{flag} {val}' for flag, val in options.items()])\n",
    "    job_string = f\"source ~/.bashrc; conda activate {conda_env};\"\n",
    "    \n",
    "    # THIS IS THE ACTUAL COMMAND LINE TO RUN THE SCRIPT (everything else is to allow it to run on MSKCC servers)\n",
    "    run_script_string = f\"python {plot_script} --mito_genes_path {mito_genes_path} --cov_path {cov_path}\"\n",
    "    script2 = f\"--barcodes_path {barcodes_path} --out_path {out_path} --sample {clone}\"\n",
    "\n",
    "    command = f'bsub {option_string} \\\"{job_string} {run_script_string} {script2}\"'\n",
    "    os.system(command)\n",
    "    print(command + '\\n')"
   ]
  },
  {
   "cell_type": "markdown",
   "id": "b6bf3fa8",
   "metadata": {},
   "source": [
    "# 03 Compute Single-cell coverage (takes longer to run)\n",
    "\n",
    "For each cell, we report the number of unique fragments (different START and END) that overlap each base pair."
   ]
  },
  {
   "cell_type": "code",
   "execution_count": 4,
   "id": "3c36e3fb",
   "metadata": {},
   "outputs": [
    {
     "name": "stdout",
     "output_type": "stream",
     "text": [
      "bsub -J A0257_coverage -n 5 -R rusage[mem=10] -W 120:00 -o A0257.stdout -eo A0257.stdout \"source ~/.bashrc; conda activate scanpy; python ../../scripts/single-cell-coverage.py --mito_genes_path ../../misc/mito_genes.csv --mito_frags_path /data/peer/landm/Projects/sail-dogma/yi-clone-samples/cache/YF-2818_8HetClonesHashtagMix_hLLL_multiome/by_clone/A0257/mito/mito_fragments_split_3000_bp_frags.csv --barcodes_path /data/peer/landm/Projects/sail-dogma/yi-clone-samples/cache/YF-2818_8HetClonesHashtagMix_hLLL_multiome/by_clone/A0257/mito/barcodes.tsv --out_dir /data/peer/landm/Projects/sail-dogma/yi-clone-samples/cache/YF-2818_8HetClonesHashtagMix_hLLL_multiome/by_clone/A0257/mito/single-cell-coverage_split_3000_bp_frags/\"\n",
      "\n",
      "bsub -J A0256_coverage -n 5 -R rusage[mem=10] -W 120:00 -o A0256.stdout -eo A0256.stdout \"source ~/.bashrc; conda activate scanpy; python ../../scripts/single-cell-coverage.py --mito_genes_path ../../misc/mito_genes.csv --mito_frags_path /data/peer/landm/Projects/sail-dogma/yi-clone-samples/cache/YF-2818_8HetClonesHashtagMix_hLLL_multiome/by_clone/A0256/mito/mito_fragments_split_3000_bp_frags.csv --barcodes_path /data/peer/landm/Projects/sail-dogma/yi-clone-samples/cache/YF-2818_8HetClonesHashtagMix_hLLL_multiome/by_clone/A0256/mito/barcodes.tsv --out_dir /data/peer/landm/Projects/sail-dogma/yi-clone-samples/cache/YF-2818_8HetClonesHashtagMix_hLLL_multiome/by_clone/A0256/mito/single-cell-coverage_split_3000_bp_frags/\"\n",
      "\n",
      "bsub -J A0253_coverage -n 5 -R rusage[mem=10] -W 120:00 -o A0253.stdout -eo A0253.stdout \"source ~/.bashrc; conda activate scanpy; python ../../scripts/single-cell-coverage.py --mito_genes_path ../../misc/mito_genes.csv --mito_frags_path /data/peer/landm/Projects/sail-dogma/yi-clone-samples/cache/YF-2818_8HetClonesHashtagMix_hLLL_multiome/by_clone/A0253/mito/mito_fragments_split_3000_bp_frags.csv --barcodes_path /data/peer/landm/Projects/sail-dogma/yi-clone-samples/cache/YF-2818_8HetClonesHashtagMix_hLLL_multiome/by_clone/A0253/mito/barcodes.tsv --out_dir /data/peer/landm/Projects/sail-dogma/yi-clone-samples/cache/YF-2818_8HetClonesHashtagMix_hLLL_multiome/by_clone/A0253/mito/single-cell-coverage_split_3000_bp_frags/\"\n",
      "\n",
      "bsub -J A0258_coverage -n 5 -R rusage[mem=10] -W 120:00 -o A0258.stdout -eo A0258.stdout \"source ~/.bashrc; conda activate scanpy; python ../../scripts/single-cell-coverage.py --mito_genes_path ../../misc/mito_genes.csv --mito_frags_path /data/peer/landm/Projects/sail-dogma/yi-clone-samples/cache/YF-2818_8HetClonesHashtagMix_hLLL_multiome/by_clone/A0258/mito/mito_fragments_split_3000_bp_frags.csv --barcodes_path /data/peer/landm/Projects/sail-dogma/yi-clone-samples/cache/YF-2818_8HetClonesHashtagMix_hLLL_multiome/by_clone/A0258/mito/barcodes.tsv --out_dir /data/peer/landm/Projects/sail-dogma/yi-clone-samples/cache/YF-2818_8HetClonesHashtagMix_hLLL_multiome/by_clone/A0258/mito/single-cell-coverage_split_3000_bp_frags/\"\n",
      "\n",
      "bsub -J A0255_coverage -n 5 -R rusage[mem=10] -W 120:00 -o A0255.stdout -eo A0255.stdout \"source ~/.bashrc; conda activate scanpy; python ../../scripts/single-cell-coverage.py --mito_genes_path ../../misc/mito_genes.csv --mito_frags_path /data/peer/landm/Projects/sail-dogma/yi-clone-samples/cache/YF-2818_8HetClonesHashtagMix_hLLL_multiome/by_clone/A0255/mito/mito_fragments_split_3000_bp_frags.csv --barcodes_path /data/peer/landm/Projects/sail-dogma/yi-clone-samples/cache/YF-2818_8HetClonesHashtagMix_hLLL_multiome/by_clone/A0255/mito/barcodes.tsv --out_dir /data/peer/landm/Projects/sail-dogma/yi-clone-samples/cache/YF-2818_8HetClonesHashtagMix_hLLL_multiome/by_clone/A0255/mito/single-cell-coverage_split_3000_bp_frags/\"\n",
      "\n",
      "bsub -J A0252_coverage -n 5 -R rusage[mem=10] -W 120:00 -o A0252.stdout -eo A0252.stdout \"source ~/.bashrc; conda activate scanpy; python ../../scripts/single-cell-coverage.py --mito_genes_path ../../misc/mito_genes.csv --mito_frags_path /data/peer/landm/Projects/sail-dogma/yi-clone-samples/cache/YF-2818_8HetClonesHashtagMix_hLLL_multiome/by_clone/A0252/mito/mito_fragments_split_3000_bp_frags.csv --barcodes_path /data/peer/landm/Projects/sail-dogma/yi-clone-samples/cache/YF-2818_8HetClonesHashtagMix_hLLL_multiome/by_clone/A0252/mito/barcodes.tsv --out_dir /data/peer/landm/Projects/sail-dogma/yi-clone-samples/cache/YF-2818_8HetClonesHashtagMix_hLLL_multiome/by_clone/A0252/mito/single-cell-coverage_split_3000_bp_frags/\"\n",
      "\n",
      "bsub -J A0254_coverage -n 5 -R rusage[mem=10] -W 120:00 -o A0254.stdout -eo A0254.stdout \"source ~/.bashrc; conda activate scanpy; python ../../scripts/single-cell-coverage.py --mito_genes_path ../../misc/mito_genes.csv --mito_frags_path /data/peer/landm/Projects/sail-dogma/yi-clone-samples/cache/YF-2818_8HetClonesHashtagMix_hLLL_multiome/by_clone/A0254/mito/mito_fragments_split_3000_bp_frags.csv --barcodes_path /data/peer/landm/Projects/sail-dogma/yi-clone-samples/cache/YF-2818_8HetClonesHashtagMix_hLLL_multiome/by_clone/A0254/mito/barcodes.tsv --out_dir /data/peer/landm/Projects/sail-dogma/yi-clone-samples/cache/YF-2818_8HetClonesHashtagMix_hLLL_multiome/by_clone/A0254/mito/single-cell-coverage_split_3000_bp_frags/\"\n",
      "\n",
      "bsub -J A0251_coverage -n 5 -R rusage[mem=10] -W 120:00 -o A0251.stdout -eo A0251.stdout \"source ~/.bashrc; conda activate scanpy; python ../../scripts/single-cell-coverage.py --mito_genes_path ../../misc/mito_genes.csv --mito_frags_path /data/peer/landm/Projects/sail-dogma/yi-clone-samples/cache/YF-2818_8HetClonesHashtagMix_hLLL_multiome/by_clone/A0251/mito/mito_fragments_split_3000_bp_frags.csv --barcodes_path /data/peer/landm/Projects/sail-dogma/yi-clone-samples/cache/YF-2818_8HetClonesHashtagMix_hLLL_multiome/by_clone/A0251/mito/barcodes.tsv --out_dir /data/peer/landm/Projects/sail-dogma/yi-clone-samples/cache/YF-2818_8HetClonesHashtagMix_hLLL_multiome/by_clone/A0251/mito/single-cell-coverage_split_3000_bp_frags/\"\n",
      "\n"
     ]
    }
   ],
   "source": [
    "# relative to repo\n",
    "cov_script = \"../../scripts/single-cell-coverage.py\"\n",
    "mito_genes_path = '../../misc/mito_genes.csv'\n",
    "\n",
    "for clone in os.listdir(by_clone_cache_dir):\n",
    "    mito_frag_path = f'{by_clone_cache_dir}{clone}/mito/mito_fragments_split_3000_bp_frags.csv'\n",
    "    barcodes_path = f\"{by_clone_cache_dir}{clone}/mito/barcodes.tsv\"\n",
    "    out_dir = f'{by_clone_cache_dir}{clone}/mito/single-cell-coverage_split_3000_bp_frags/'\n",
    "    if not os.path.exists(out_dir):\n",
    "        os.mkdir(out_dir)\n",
    "    \n",
    "    memory = 10\n",
    "    conda_env = 'scanpy'\n",
    "    options = dict()\n",
    "    options['J'] = f'{clone}_coverage'\n",
    "    options['n'] = f'5'\n",
    "    options['R'] = f'rusage[mem={memory}]'\n",
    "    options['W'] = f'120:00'\n",
    "    options['o'] = f'{clone}.stdout'\n",
    "    options['eo'] = f'{clone}.stdout'\n",
    "\n",
    "\n",
    "    if os.path.exists(options['o']):\n",
    "        os.remove(options['o'])\n",
    "\n",
    "    option_string = ' '.join([f'-{flag} {val}' for flag, val in options.items()])\n",
    "    job_string = f\"source ~/.bashrc; conda activate {conda_env};\"\n",
    "    \n",
    "    # THIS IS THE ACTUAL COMMAND LINE TO RUN THE SCRIPT (everything else is to allow it to run on MSKCC servers)\n",
    "    run_script_string = f\"python {cov_script} --mito_genes_path {mito_genes_path} --mito_frags_path {mito_frag_path} --barcodes_path {barcodes_path} --out_dir {out_dir}\"\n",
    "\n",
    "    command = f'bsub {option_string} \\\"{job_string} {run_script_string}\"'\n",
    "    # os.system(command)\n",
    "    print(command + '\\n')"
   ]
  },
  {
   "cell_type": "code",
   "execution_count": null,
   "id": "98e4b75d",
   "metadata": {},
   "outputs": [],
   "source": []
  }
 ],
 "metadata": {
  "kernelspec": {
   "display_name": "scanpy",
   "language": "python",
   "name": "scanpy"
  },
  "language_info": {
   "codemirror_mode": {
    "name": "ipython",
    "version": 3
   },
   "file_extension": ".py",
   "mimetype": "text/x-python",
   "name": "python",
   "nbconvert_exporter": "python",
   "pygments_lexer": "ipython3",
   "version": "3.8.17"
  }
 },
 "nbformat": 4,
 "nbformat_minor": 5
}
