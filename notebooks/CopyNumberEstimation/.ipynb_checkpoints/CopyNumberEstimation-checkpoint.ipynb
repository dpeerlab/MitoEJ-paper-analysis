{
 "cells": [
  {
   "cell_type": "markdown",
   "metadata": {},
   "source": [
    "# Copy Number Estimation \n",
    "This notebook estimates mtDNA copy number using the method developed at SAIL. It is based on the assumption that scATAC-seq samples open nuclear DNA at the same rate as mitchondrial DNA, which is open everywhere. We choose open bins in nuclear DNA by computing an accessibiity score for each bin, and choosing bins with high accessibility score. Then we use these bins as normalization factor to compute the mtDNA copy number."
   ]
  },
  {
   "cell_type": "code",
   "execution_count": 1,
   "metadata": {},
   "outputs": [],
   "source": [
    "import numpy as np\n",
    "import pandas as pd\n",
    "import matplotlib.pyplot as plt \n",
    "import seaborn as sns \n",
    "import argparse\n",
    "import time \n",
    "import scanpy as sc\n",
    "import fastremap\n",
    "from scipy.sparse import csr_matrix\n",
    "import anndata\n",
    "import bisect\n",
    "from tqdm import tqdm\n",
    "import os\n",
    "plt.rcParams[\"figure.figsize\"] = (15, 7)"
   ]
  },
  {
   "cell_type": "markdown",
   "metadata": {},
   "source": [
    "# Step 1: Load data"
   ]
  },
  {
   "cell_type": "code",
   "execution_count": 2,
   "metadata": {},
   "outputs": [],
   "source": [
    "def read_fragment_file(fragment_path):\n",
    "    \"\"\"\n",
    "    Read fragment file from the specified path.\n",
    "    \"\"\"\n",
    "    fragment_data = pd.read_csv(\n",
    "        fragment_path,\n",
    "        compression='gzip',\n",
    "        header=None,\n",
    "        sep='\\t',\n",
    "        quotechar='\"',\n",
    "        comment='#',\n",
    "        dtype={'chromosome': str}  # Ensure 'chromosome' is read as string\n",
    "    )\n",
    "    fragment_data.columns = ['chromosome', 'start', 'end', 'barcode', 'cr_umi']\n",
    "    return fragment_data"
   ]
  },
  {
   "cell_type": "code",
   "execution_count": 3,
   "metadata": {},
   "outputs": [],
   "source": [
    "def read_chromosome_size_file(reference):\n",
    "    \"\"\"\n",
    "    read chromosome size file for given reference\n",
    "    \"\"\"\n",
    "    return pd.read_csv(f'/data/peer/rsaha/mito/copy-number-pipeline/genome_files/{reference}/{reference}.csv')"
   ]
  },
  {
   "cell_type": "code",
   "execution_count": 4,
   "metadata": {},
   "outputs": [],
   "source": [
    "def read_blacklist(reference):\n",
    "    \"\"\"\n",
    "    read chromosome size file for given reference\n",
    "    \"\"\"\n",
    "    return pd.read_csv(f'/data/peer/rsaha/mito/copy-number-pipeline/genome_files/{reference}/blacklist.csv')"
   ]
  },
  {
   "cell_type": "code",
   "execution_count": 5,
   "metadata": {},
   "outputs": [],
   "source": [
    "samples = [\n",
    "    \"YF-2721_48mix_10dGal_3d_mito_hLLLdogma_multiome\",\n",
    "    \"YF-2721_48mix_25dGlu_3d_mito_hLLLdogma_multiome\",\n",
    "    \"YF-2721_48mix_25dGlu_NoPyr_3d_mito_hLLLdogma_multiome\",\n",
    "]\n",
    "\n",
    "sample_to_short_dict =  {\n",
    "    \"YF-2721_48mix_10dGal_3d_mito_hLLLdogma_multiome\": 'Galactose',\n",
    "    \"YF-2721_48mix_25dGlu_3d_mito_hLLLdogma_multiome\": 'Glucose',\n",
    "    \"YF-2721_48mix_25dGlu_NoPyr_3d_mito_hLLLdogma_multiome\": 'Glucose_No_Pyruvate',\n",
    "}\n",
    "\n",
    "s = samples[2]"
   ]
  },
  {
   "cell_type": "code",
   "execution_count": 6,
   "metadata": {},
   "outputs": [],
   "source": [
    "proj_dir = \"/data/peer/landm/Projects/sail-dogma/yi-clone-samples/\"\n",
    "INBASE = f'{proj_dir}data/{s}/cr-arc-results/'\n",
    "FRAGMENT_PATH = f'{INBASE}atac_fragments.tsv.gz'\n",
    "BARCODE_PATH = f'{INBASE}filtered_feature_bc_matrix.h5'\n",
    "OUTPUT_DIR = f'{proj_dir}notebooks/copy-number-estimation-cache/{sample_to_short_dict[s]}/'\n",
    "GENOME = 'hg38'"
   ]
  },
  {
   "cell_type": "code",
   "execution_count": 7,
   "metadata": {},
   "outputs": [],
   "source": [
    "if not os.path.exists(OUTPUT_DIR):\n",
    "    os.mkdir(OUTPUT_DIR)"
   ]
  },
  {
   "cell_type": "code",
   "execution_count": 8,
   "metadata": {},
   "outputs": [
    {
     "data": {
      "text/html": [
       "<div>\n",
       "<style scoped>\n",
       "    .dataframe tbody tr th:only-of-type {\n",
       "        vertical-align: middle;\n",
       "    }\n",
       "\n",
       "    .dataframe tbody tr th {\n",
       "        vertical-align: top;\n",
       "    }\n",
       "\n",
       "    .dataframe thead th {\n",
       "        text-align: right;\n",
       "    }\n",
       "</style>\n",
       "<table border=\"1\" class=\"dataframe\">\n",
       "  <thead>\n",
       "    <tr style=\"text-align: right;\">\n",
       "      <th></th>\n",
       "      <th>chromosome</th>\n",
       "      <th>start</th>\n",
       "      <th>end</th>\n",
       "      <th>barcode</th>\n",
       "      <th>cr_umi</th>\n",
       "    </tr>\n",
       "  </thead>\n",
       "  <tbody>\n",
       "    <tr>\n",
       "      <th>0</th>\n",
       "      <td>chr1</td>\n",
       "      <td>10067</td>\n",
       "      <td>10478</td>\n",
       "      <td>TGATCGAGTTGGTGAC-1</td>\n",
       "      <td>1</td>\n",
       "    </tr>\n",
       "    <tr>\n",
       "      <th>1</th>\n",
       "      <td>chr1</td>\n",
       "      <td>10073</td>\n",
       "      <td>10202</td>\n",
       "      <td>TTTATGGAGAGGATAT-1</td>\n",
       "      <td>1</td>\n",
       "    </tr>\n",
       "    <tr>\n",
       "      <th>2</th>\n",
       "      <td>chr1</td>\n",
       "      <td>10073</td>\n",
       "      <td>10285</td>\n",
       "      <td>TTAATCGAGTATTGCA-1</td>\n",
       "      <td>1</td>\n",
       "    </tr>\n",
       "    <tr>\n",
       "      <th>3</th>\n",
       "      <td>chr1</td>\n",
       "      <td>10073</td>\n",
       "      <td>10334</td>\n",
       "      <td>CATCCTCAGTTTGGGT-1</td>\n",
       "      <td>1</td>\n",
       "    </tr>\n",
       "    <tr>\n",
       "      <th>4</th>\n",
       "      <td>chr1</td>\n",
       "      <td>10073</td>\n",
       "      <td>10431</td>\n",
       "      <td>GTTGGCCAGGAGCAAC-1</td>\n",
       "      <td>1</td>\n",
       "    </tr>\n",
       "  </tbody>\n",
       "</table>\n",
       "</div>"
      ],
      "text/plain": [
       "  chromosome  start    end             barcode  cr_umi\n",
       "0       chr1  10067  10478  TGATCGAGTTGGTGAC-1       1\n",
       "1       chr1  10073  10202  TTTATGGAGAGGATAT-1       1\n",
       "2       chr1  10073  10285  TTAATCGAGTATTGCA-1       1\n",
       "3       chr1  10073  10334  CATCCTCAGTTTGGGT-1       1\n",
       "4       chr1  10073  10431  GTTGGCCAGGAGCAAC-1       1"
      ]
     },
     "execution_count": 8,
     "metadata": {},
     "output_type": "execute_result"
    }
   ],
   "source": [
    "frag = read_fragment_file(FRAGMENT_PATH)\n",
    "frag.head()"
   ]
  },
  {
   "cell_type": "code",
   "execution_count": 9,
   "metadata": {},
   "outputs": [
    {
     "name": "stderr",
     "output_type": "stream",
     "text": [
      "/home/landm/anaconda3/envs/scanpy/lib/python3.8/site-packages/anndata/_core/anndata.py:1840: UserWarning: Variable names are not unique. To make them unique, call `.var_names_make_unique`.\n",
      "  utils.warn_names_duplicates(\"var\")\n",
      "/home/landm/anaconda3/envs/scanpy/lib/python3.8/site-packages/anndata/_core/anndata.py:1840: UserWarning: Variable names are not unique. To make them unique, call `.var_names_make_unique`.\n",
      "  utils.warn_names_duplicates(\"var\")\n"
     ]
    },
    {
     "data": {
      "text/html": [
       "<div>\n",
       "<style scoped>\n",
       "    .dataframe tbody tr th:only-of-type {\n",
       "        vertical-align: middle;\n",
       "    }\n",
       "\n",
       "    .dataframe tbody tr th {\n",
       "        vertical-align: top;\n",
       "    }\n",
       "\n",
       "    .dataframe thead th {\n",
       "        text-align: right;\n",
       "    }\n",
       "</style>\n",
       "<table border=\"1\" class=\"dataframe\">\n",
       "  <thead>\n",
       "    <tr style=\"text-align: right;\">\n",
       "      <th></th>\n",
       "      <th>barcode</th>\n",
       "    </tr>\n",
       "  </thead>\n",
       "  <tbody>\n",
       "    <tr>\n",
       "      <th>0</th>\n",
       "      <td>AAACAGCCAAACAACA-1</td>\n",
       "    </tr>\n",
       "    <tr>\n",
       "      <th>1</th>\n",
       "      <td>AAACAGCCAAACATAG-1</td>\n",
       "    </tr>\n",
       "    <tr>\n",
       "      <th>2</th>\n",
       "      <td>AAACAGCCAACCCTCC-1</td>\n",
       "    </tr>\n",
       "    <tr>\n",
       "      <th>3</th>\n",
       "      <td>AAACAGCCAAGGACCA-1</td>\n",
       "    </tr>\n",
       "    <tr>\n",
       "      <th>4</th>\n",
       "      <td>AAACAGCCAATACTGT-1</td>\n",
       "    </tr>\n",
       "    <tr>\n",
       "      <th>...</th>\n",
       "      <td>...</td>\n",
       "    </tr>\n",
       "    <tr>\n",
       "      <th>16067</th>\n",
       "      <td>TTTGTTGGTTAGCAGC-1</td>\n",
       "    </tr>\n",
       "    <tr>\n",
       "      <th>16068</th>\n",
       "      <td>TTTGTTGGTTCGGGAT-1</td>\n",
       "    </tr>\n",
       "    <tr>\n",
       "      <th>16069</th>\n",
       "      <td>TTTGTTGGTTGTGATG-1</td>\n",
       "    </tr>\n",
       "    <tr>\n",
       "      <th>16070</th>\n",
       "      <td>TTTGTTGGTTGTTGCT-1</td>\n",
       "    </tr>\n",
       "    <tr>\n",
       "      <th>16071</th>\n",
       "      <td>TTTGTTGGTTTCAGGA-1</td>\n",
       "    </tr>\n",
       "  </tbody>\n",
       "</table>\n",
       "<p>16072 rows × 1 columns</p>\n",
       "</div>"
      ],
      "text/plain": [
       "                  barcode\n",
       "0      AAACAGCCAAACAACA-1\n",
       "1      AAACAGCCAAACATAG-1\n",
       "2      AAACAGCCAACCCTCC-1\n",
       "3      AAACAGCCAAGGACCA-1\n",
       "4      AAACAGCCAATACTGT-1\n",
       "...                   ...\n",
       "16067  TTTGTTGGTTAGCAGC-1\n",
       "16068  TTTGTTGGTTCGGGAT-1\n",
       "16069  TTTGTTGGTTGTGATG-1\n",
       "16070  TTTGTTGGTTGTTGCT-1\n",
       "16071  TTTGTTGGTTTCAGGA-1\n",
       "\n",
       "[16072 rows x 1 columns]"
      ]
     },
     "execution_count": 9,
     "metadata": {},
     "output_type": "execute_result"
    }
   ],
   "source": [
    "barcodes = sc.read_10x_h5(BARCODE_PATH)\n",
    "barcodes = pd.DataFrame(barcodes.obs.index, columns=['barcode'])\n",
    "barcodes"
   ]
  },
  {
   "cell_type": "code",
   "execution_count": 10,
   "metadata": {},
   "outputs": [
    {
     "data": {
      "text/html": [
       "<div>\n",
       "<style scoped>\n",
       "    .dataframe tbody tr th:only-of-type {\n",
       "        vertical-align: middle;\n",
       "    }\n",
       "\n",
       "    .dataframe tbody tr th {\n",
       "        vertical-align: top;\n",
       "    }\n",
       "\n",
       "    .dataframe thead th {\n",
       "        text-align: right;\n",
       "    }\n",
       "</style>\n",
       "<table border=\"1\" class=\"dataframe\">\n",
       "  <thead>\n",
       "    <tr style=\"text-align: right;\">\n",
       "      <th></th>\n",
       "      <th>Chromosome</th>\n",
       "      <th>length</th>\n",
       "    </tr>\n",
       "  </thead>\n",
       "  <tbody>\n",
       "    <tr>\n",
       "      <th>0</th>\n",
       "      <td>chr1</td>\n",
       "      <td>248956422</td>\n",
       "    </tr>\n",
       "    <tr>\n",
       "      <th>1</th>\n",
       "      <td>chr10</td>\n",
       "      <td>133797422</td>\n",
       "    </tr>\n",
       "    <tr>\n",
       "      <th>2</th>\n",
       "      <td>chr11</td>\n",
       "      <td>135086622</td>\n",
       "    </tr>\n",
       "    <tr>\n",
       "      <th>3</th>\n",
       "      <td>chr12</td>\n",
       "      <td>133275309</td>\n",
       "    </tr>\n",
       "    <tr>\n",
       "      <th>4</th>\n",
       "      <td>chr13</td>\n",
       "      <td>114364328</td>\n",
       "    </tr>\n",
       "    <tr>\n",
       "      <th>5</th>\n",
       "      <td>chr14</td>\n",
       "      <td>107043718</td>\n",
       "    </tr>\n",
       "    <tr>\n",
       "      <th>6</th>\n",
       "      <td>chr15</td>\n",
       "      <td>101991189</td>\n",
       "    </tr>\n",
       "    <tr>\n",
       "      <th>7</th>\n",
       "      <td>chr16</td>\n",
       "      <td>90338345</td>\n",
       "    </tr>\n",
       "    <tr>\n",
       "      <th>8</th>\n",
       "      <td>chr17</td>\n",
       "      <td>83257441</td>\n",
       "    </tr>\n",
       "    <tr>\n",
       "      <th>9</th>\n",
       "      <td>chr18</td>\n",
       "      <td>80373285</td>\n",
       "    </tr>\n",
       "    <tr>\n",
       "      <th>10</th>\n",
       "      <td>chr19</td>\n",
       "      <td>58617616</td>\n",
       "    </tr>\n",
       "    <tr>\n",
       "      <th>11</th>\n",
       "      <td>chr2</td>\n",
       "      <td>242193529</td>\n",
       "    </tr>\n",
       "    <tr>\n",
       "      <th>12</th>\n",
       "      <td>chr20</td>\n",
       "      <td>64444167</td>\n",
       "    </tr>\n",
       "    <tr>\n",
       "      <th>13</th>\n",
       "      <td>chr21</td>\n",
       "      <td>46709983</td>\n",
       "    </tr>\n",
       "    <tr>\n",
       "      <th>14</th>\n",
       "      <td>chr22</td>\n",
       "      <td>50818468</td>\n",
       "    </tr>\n",
       "    <tr>\n",
       "      <th>15</th>\n",
       "      <td>chr3</td>\n",
       "      <td>198295559</td>\n",
       "    </tr>\n",
       "    <tr>\n",
       "      <th>16</th>\n",
       "      <td>chr4</td>\n",
       "      <td>190214555</td>\n",
       "    </tr>\n",
       "    <tr>\n",
       "      <th>17</th>\n",
       "      <td>chr5</td>\n",
       "      <td>181538259</td>\n",
       "    </tr>\n",
       "    <tr>\n",
       "      <th>18</th>\n",
       "      <td>chr6</td>\n",
       "      <td>170805979</td>\n",
       "    </tr>\n",
       "    <tr>\n",
       "      <th>19</th>\n",
       "      <td>chr7</td>\n",
       "      <td>159345973</td>\n",
       "    </tr>\n",
       "    <tr>\n",
       "      <th>20</th>\n",
       "      <td>chr8</td>\n",
       "      <td>145138636</td>\n",
       "    </tr>\n",
       "    <tr>\n",
       "      <th>21</th>\n",
       "      <td>chr9</td>\n",
       "      <td>138394717</td>\n",
       "    </tr>\n",
       "    <tr>\n",
       "      <th>22</th>\n",
       "      <td>chrM</td>\n",
       "      <td>16569</td>\n",
       "    </tr>\n",
       "    <tr>\n",
       "      <th>23</th>\n",
       "      <td>chrX</td>\n",
       "      <td>156040895</td>\n",
       "    </tr>\n",
       "  </tbody>\n",
       "</table>\n",
       "</div>"
      ],
      "text/plain": [
       "   Chromosome     length\n",
       "0        chr1  248956422\n",
       "1       chr10  133797422\n",
       "2       chr11  135086622\n",
       "3       chr12  133275309\n",
       "4       chr13  114364328\n",
       "5       chr14  107043718\n",
       "6       chr15  101991189\n",
       "7       chr16   90338345\n",
       "8       chr17   83257441\n",
       "9       chr18   80373285\n",
       "10      chr19   58617616\n",
       "11       chr2  242193529\n",
       "12      chr20   64444167\n",
       "13      chr21   46709983\n",
       "14      chr22   50818468\n",
       "15       chr3  198295559\n",
       "16       chr4  190214555\n",
       "17       chr5  181538259\n",
       "18       chr6  170805979\n",
       "19       chr7  159345973\n",
       "20       chr8  145138636\n",
       "21       chr9  138394717\n",
       "22       chrM      16569\n",
       "23       chrX  156040895"
      ]
     },
     "execution_count": 10,
     "metadata": {},
     "output_type": "execute_result"
    }
   ],
   "source": [
    "chromosome_size = read_chromosome_size_file(GENOME)\n",
    "chromosome_size"
   ]
  },
  {
   "cell_type": "code",
   "execution_count": 11,
   "metadata": {},
   "outputs": [],
   "source": [
    "# filter fragments \n",
    "frag = frag[frag['barcode'].isin(barcodes['barcode'])]\n",
    "frag = frag[frag['chromosome'].isin(chromosome_size['Chromosome'])]"
   ]
  },
  {
   "cell_type": "markdown",
   "metadata": {},
   "source": [
    "# Step 2: Compute Tile Matrix"
   ]
  },
  {
   "cell_type": "markdown",
   "metadata": {},
   "source": [
    "## Read Blacklist Information"
   ]
  },
  {
   "cell_type": "code",
   "execution_count": 12,
   "metadata": {},
   "outputs": [
    {
     "data": {
      "text/html": [
       "<div>\n",
       "<style scoped>\n",
       "    .dataframe tbody tr th:only-of-type {\n",
       "        vertical-align: middle;\n",
       "    }\n",
       "\n",
       "    .dataframe tbody tr th {\n",
       "        vertical-align: top;\n",
       "    }\n",
       "\n",
       "    .dataframe thead th {\n",
       "        text-align: right;\n",
       "    }\n",
       "</style>\n",
       "<table border=\"1\" class=\"dataframe\">\n",
       "  <thead>\n",
       "    <tr style=\"text-align: right;\">\n",
       "      <th></th>\n",
       "      <th>chromosome</th>\n",
       "      <th>start</th>\n",
       "      <th>end</th>\n",
       "      <th>width</th>\n",
       "      <th>Encode</th>\n",
       "      <th>Buenrostro</th>\n",
       "    </tr>\n",
       "  </thead>\n",
       "  <tbody>\n",
       "    <tr>\n",
       "      <th>0</th>\n",
       "      <td>chr1</td>\n",
       "      <td>1</td>\n",
       "      <td>792500</td>\n",
       "      <td>792500</td>\n",
       "      <td>True</td>\n",
       "      <td>True</td>\n",
       "    </tr>\n",
       "    <tr>\n",
       "      <th>1</th>\n",
       "      <td>chr1</td>\n",
       "      <td>5850088</td>\n",
       "      <td>5850571</td>\n",
       "      <td>484</td>\n",
       "      <td>False</td>\n",
       "      <td>True</td>\n",
       "    </tr>\n",
       "    <tr>\n",
       "      <th>2</th>\n",
       "      <td>chr1</td>\n",
       "      <td>8909611</td>\n",
       "      <td>8910014</td>\n",
       "      <td>404</td>\n",
       "      <td>False</td>\n",
       "      <td>True</td>\n",
       "    </tr>\n",
       "    <tr>\n",
       "      <th>3</th>\n",
       "      <td>chr1</td>\n",
       "      <td>9574581</td>\n",
       "      <td>9574997</td>\n",
       "      <td>417</td>\n",
       "      <td>False</td>\n",
       "      <td>True</td>\n",
       "    </tr>\n",
       "    <tr>\n",
       "      <th>4</th>\n",
       "      <td>chr1</td>\n",
       "      <td>32043824</td>\n",
       "      <td>32044203</td>\n",
       "      <td>380</td>\n",
       "      <td>False</td>\n",
       "      <td>True</td>\n",
       "    </tr>\n",
       "  </tbody>\n",
       "</table>\n",
       "</div>"
      ],
      "text/plain": [
       "  chromosome     start       end   width  Encode  Buenrostro\n",
       "0       chr1         1    792500  792500    True        True\n",
       "1       chr1   5850088   5850571     484   False        True\n",
       "2       chr1   8909611   8910014     404   False        True\n",
       "3       chr1   9574581   9574997     417   False        True\n",
       "4       chr1  32043824  32044203     380   False        True"
      ]
     },
     "execution_count": 12,
     "metadata": {},
     "output_type": "execute_result"
    }
   ],
   "source": [
    "blacklist = read_blacklist(GENOME)\n",
    "blacklist = blacklist[blacklist['chromosome'].isin(chromosome_size['Chromosome'])]\n",
    "blacklist.head()"
   ]
  },
  {
   "cell_type": "markdown",
   "metadata": {},
   "source": [
    "## Construct Tile Size "
   ]
  },
  {
   "cell_type": "code",
   "execution_count": 13,
   "metadata": {},
   "outputs": [],
   "source": [
    "TILE_SIZE=500"
   ]
  },
  {
   "cell_type": "code",
   "execution_count": 14,
   "metadata": {},
   "outputs": [],
   "source": [
    "def convert_to_linear_genome(frag): \n",
    "    offset = dict(zip(chromosome_size['Chromosome'], (np.ceil(np.array([0] + list(chromosome_size['length'][:-1]))//TILE_SIZE)*TILE_SIZE).astype(int).cumsum()))\n",
    "    chromosome_offset_list = np.array(list(map(lambda x: offset[x], frag['chromosome'])))\n",
    "    frag['start_linear'] = frag['start'] + chromosome_offset_list + 1\n",
    "    frag['end_linear'] = frag['end'] + chromosome_offset_list"
   ]
  },
  {
   "cell_type": "markdown",
   "metadata": {},
   "source": [
    "## Convert blacklist to linear genome"
   ]
  },
  {
   "cell_type": "code",
   "execution_count": 15,
   "metadata": {},
   "outputs": [
    {
     "name": "stdout",
     "output_type": "stream",
     "text": [
      "converted blacklist to linear genome\n"
     ]
    }
   ],
   "source": [
    "convert_to_linear_genome(blacklist)\n",
    "blacklist['start_bin'] = blacklist['start_linear']//TILE_SIZE\n",
    "blacklist['end_bin'] = blacklist['end_linear']//TILE_SIZE\n",
    "print('converted blacklist to linear genome')"
   ]
  },
  {
   "cell_type": "markdown",
   "metadata": {},
   "source": [
    "## Convert fragment to linear genome"
   ]
  },
  {
   "cell_type": "code",
   "execution_count": 16,
   "metadata": {},
   "outputs": [
    {
     "name": "stdout",
     "output_type": "stream",
     "text": [
      "converted fragment to linear genome 51.579665184020996 seconds\n"
     ]
    }
   ],
   "source": [
    "s = time.time() \n",
    "convert_to_linear_genome(frag) \n",
    "frag['start_bin'] = frag['start_linear']//TILE_SIZE\n",
    "frag['end_bin'] = frag['end_linear']//TILE_SIZE\n",
    "e = time.time() \n",
    "print('converted fragment to linear genome', e - s , 'seconds')"
   ]
  },
  {
   "cell_type": "markdown",
   "metadata": {},
   "source": [
    "## Remove blacklisted entries"
   ]
  },
  {
   "cell_type": "code",
   "execution_count": 17,
   "metadata": {},
   "outputs": [],
   "source": [
    "def return_numpy_mask_remove_numbers_in_intervals(numbers, intervals):\n",
    "    # Step 1: Sort intervals based on the start of each interval\n",
    "    intervals.sort(key=lambda x: x[0])\n",
    "\n",
    "    # Step 2: Sort the list of numbers\n",
    "#     numbers.sort(key=lambda x: x[1])\n",
    "\n",
    "    # Step 3: Iterate using two pointers\n",
    "    interval_idx = 0\n",
    "    result = []\n",
    "    for idx, number in enumerate(numbers):\n",
    "        while interval_idx < len(intervals) and number[1] > intervals[interval_idx][1]:\n",
    "            interval_idx += 1\n",
    "        \n",
    "        if interval_idx == len(intervals) or number[1] < intervals[interval_idx][0]:\n",
    "            result.append(idx)\n",
    "\n",
    "    # Step 4: Return the filtered list\n",
    "    return result"
   ]
  },
  {
   "cell_type": "code",
   "execution_count": 18,
   "metadata": {},
   "outputs": [
    {
     "name": "stdout",
     "output_type": "stream",
     "text": [
      "removed blacklisted entries 444.8945460319519 seconds\n"
     ]
    }
   ],
   "source": [
    "s = time.time() \n",
    "intervals = list(zip(blacklist['start_bin'], blacklist['end_bin']))\n",
    "f = pd.concat([frag['barcode'], frag['barcode']]).to_numpy()\n",
    "b = pd.concat([frag['start_bin'], frag['end_bin']]).to_numpy()\n",
    "numbers = np.column_stack((f, b))\n",
    "numbers = numbers[np.argsort(numbers[:,1].astype(int))]\n",
    "mask = return_numpy_mask_remove_numbers_in_intervals(numbers, intervals)\n",
    "filtered = numbers[mask]\n",
    "e = time.time() \n",
    "print('removed blacklisted entries', e - s, 'seconds')"
   ]
  },
  {
   "cell_type": "markdown",
   "metadata": {},
   "source": [
    "## Count reads per bin"
   ]
  },
  {
   "cell_type": "code",
   "execution_count": 19,
   "metadata": {},
   "outputs": [],
   "source": [
    "barcode_to_index = pd.DataFrame(range(len(barcodes['barcode'])), index=list(barcodes['barcode']))"
   ]
  },
  {
   "cell_type": "code",
   "execution_count": 20,
   "metadata": {},
   "outputs": [
    {
     "data": {
      "text/html": [
       "<div>\n",
       "<style scoped>\n",
       "    .dataframe tbody tr th:only-of-type {\n",
       "        vertical-align: middle;\n",
       "    }\n",
       "\n",
       "    .dataframe tbody tr th {\n",
       "        vertical-align: top;\n",
       "    }\n",
       "\n",
       "    .dataframe thead th {\n",
       "        text-align: right;\n",
       "    }\n",
       "</style>\n",
       "<table border=\"1\" class=\"dataframe\">\n",
       "  <thead>\n",
       "    <tr style=\"text-align: right;\">\n",
       "      <th></th>\n",
       "      <th>0</th>\n",
       "    </tr>\n",
       "  </thead>\n",
       "  <tbody>\n",
       "    <tr>\n",
       "      <th>AAACAGCCAAACAACA-1</th>\n",
       "      <td>0</td>\n",
       "    </tr>\n",
       "    <tr>\n",
       "      <th>AAACAGCCAAACATAG-1</th>\n",
       "      <td>1</td>\n",
       "    </tr>\n",
       "    <tr>\n",
       "      <th>AAACAGCCAACCCTCC-1</th>\n",
       "      <td>2</td>\n",
       "    </tr>\n",
       "    <tr>\n",
       "      <th>AAACAGCCAAGGACCA-1</th>\n",
       "      <td>3</td>\n",
       "    </tr>\n",
       "    <tr>\n",
       "      <th>AAACAGCCAATACTGT-1</th>\n",
       "      <td>4</td>\n",
       "    </tr>\n",
       "  </tbody>\n",
       "</table>\n",
       "</div>"
      ],
      "text/plain": [
       "                    0\n",
       "AAACAGCCAAACAACA-1  0\n",
       "AAACAGCCAAACATAG-1  1\n",
       "AAACAGCCAACCCTCC-1  2\n",
       "AAACAGCCAAGGACCA-1  3\n",
       "AAACAGCCAATACTGT-1  4"
      ]
     },
     "execution_count": 20,
     "metadata": {},
     "output_type": "execute_result"
    }
   ],
   "source": [
    "barcode_to_index.head()"
   ]
  },
  {
   "cell_type": "code",
   "execution_count": 21,
   "metadata": {},
   "outputs": [],
   "source": [
    "filtered_barcode_to_index = barcode_to_index.loc[filtered[:,0]]"
   ]
  },
  {
   "cell_type": "code",
   "execution_count": 22,
   "metadata": {},
   "outputs": [
    {
     "data": {
      "text/html": [
       "<div>\n",
       "<style scoped>\n",
       "    .dataframe tbody tr th:only-of-type {\n",
       "        vertical-align: middle;\n",
       "    }\n",
       "\n",
       "    .dataframe tbody tr th {\n",
       "        vertical-align: top;\n",
       "    }\n",
       "\n",
       "    .dataframe thead th {\n",
       "        text-align: right;\n",
       "    }\n",
       "</style>\n",
       "<table border=\"1\" class=\"dataframe\">\n",
       "  <thead>\n",
       "    <tr style=\"text-align: right;\">\n",
       "      <th></th>\n",
       "      <th>0</th>\n",
       "    </tr>\n",
       "  </thead>\n",
       "  <tbody>\n",
       "    <tr>\n",
       "      <th>CAAACAACAGGCCAAA-1</th>\n",
       "      <td>3878</td>\n",
       "    </tr>\n",
       "    <tr>\n",
       "      <th>TCGTTTCCAGCAAGAT-1</th>\n",
       "      <td>13735</td>\n",
       "    </tr>\n",
       "    <tr>\n",
       "      <th>CGACCTGCAGGTTCAC-1</th>\n",
       "      <td>5870</td>\n",
       "    </tr>\n",
       "    <tr>\n",
       "      <th>GGTGAGCCAAAGCTAA-1</th>\n",
       "      <td>10774</td>\n",
       "    </tr>\n",
       "    <tr>\n",
       "      <th>CGACCTGCAGGTTCAC-1</th>\n",
       "      <td>5870</td>\n",
       "    </tr>\n",
       "    <tr>\n",
       "      <th>...</th>\n",
       "      <td>...</td>\n",
       "    </tr>\n",
       "    <tr>\n",
       "      <th>CCTCAAACATCGCTTT-1</th>\n",
       "      <td>5545</td>\n",
       "    </tr>\n",
       "    <tr>\n",
       "      <th>GACATTATCTCCATAT-1</th>\n",
       "      <td>7950</td>\n",
       "    </tr>\n",
       "    <tr>\n",
       "      <th>GGTGAGGTCGAAGTAG-1</th>\n",
       "      <td>10789</td>\n",
       "    </tr>\n",
       "    <tr>\n",
       "      <th>TTCCACGGTAGGTTAT-1</th>\n",
       "      <td>15349</td>\n",
       "    </tr>\n",
       "    <tr>\n",
       "      <th>CTATAACCACCTCAGG-1</th>\n",
       "      <td>6885</td>\n",
       "    </tr>\n",
       "  </tbody>\n",
       "</table>\n",
       "<p>665237140 rows × 1 columns</p>\n",
       "</div>"
      ],
      "text/plain": [
       "                        0\n",
       "CAAACAACAGGCCAAA-1   3878\n",
       "TCGTTTCCAGCAAGAT-1  13735\n",
       "CGACCTGCAGGTTCAC-1   5870\n",
       "GGTGAGCCAAAGCTAA-1  10774\n",
       "CGACCTGCAGGTTCAC-1   5870\n",
       "...                   ...\n",
       "CCTCAAACATCGCTTT-1   5545\n",
       "GACATTATCTCCATAT-1   7950\n",
       "GGTGAGGTCGAAGTAG-1  10789\n",
       "TTCCACGGTAGGTTAT-1  15349\n",
       "CTATAACCACCTCAGG-1   6885\n",
       "\n",
       "[665237140 rows x 1 columns]"
      ]
     },
     "execution_count": 22,
     "metadata": {},
     "output_type": "execute_result"
    }
   ],
   "source": [
    "filtered_barcode_to_index"
   ]
  },
  {
   "cell_type": "code",
   "execution_count": 23,
   "metadata": {},
   "outputs": [],
   "source": [
    "unique_filtered = (filtered_barcode_to_index[0] * (filtered[:,1].max() + 1) + filtered[:,1]).to_numpy().astype(int)"
   ]
  },
  {
   "cell_type": "code",
   "execution_count": 24,
   "metadata": {},
   "outputs": [
    {
     "data": {
      "text/plain": [
       "array([23508402684, 83261447971, 35583888756, ..., 65408882889,\n",
       "       93051561849, 41742870025])"
      ]
     },
     "execution_count": 24,
     "metadata": {},
     "output_type": "execute_result"
    }
   ],
   "source": [
    "unique_filtered"
   ]
  },
  {
   "cell_type": "code",
   "execution_count": 25,
   "metadata": {},
   "outputs": [
    {
     "name": "stdout",
     "output_type": "stream",
     "text": [
      "fastremap took 69.63624405860901 seconds\n"
     ]
    }
   ],
   "source": [
    "s = time.time() \n",
    "uniq, cts = fastremap.unique(unique_filtered, return_counts=True) # may be much faster than np.unique\n",
    "e = time.time()\n",
    "print(f'fastremap took {e-s} seconds')"
   ]
  },
  {
   "cell_type": "code",
   "execution_count": 26,
   "metadata": {},
   "outputs": [],
   "source": [
    "m, n =  ((uniq // (filtered[:,1].max() + 1)), uniq  - (uniq // (filtered[:,1].max() + 1)) * (filtered[:,1].max() + 1))"
   ]
  },
  {
   "cell_type": "markdown",
   "metadata": {},
   "source": [
    "## Construct AnnData "
   ]
  },
  {
   "cell_type": "code",
   "execution_count": 27,
   "metadata": {},
   "outputs": [],
   "source": [
    "chromosome_size['num_bins'] = np.ceil(chromosome_size['length']/TILE_SIZE).astype(int)\n",
    "linear_genome_length_in_bins = int(chromosome_size['num_bins'].sum())"
   ]
  },
  {
   "cell_type": "code",
   "execution_count": 28,
   "metadata": {},
   "outputs": [],
   "source": [
    "mat = csr_matrix((cts, (m, n)), shape=(len(barcodes['barcode']), linear_genome_length_in_bins))"
   ]
  },
  {
   "cell_type": "code",
   "execution_count": 29,
   "metadata": {},
   "outputs": [
    {
     "name": "stderr",
     "output_type": "stream",
     "text": [
      "/home/landm/anaconda3/envs/scanpy/lib/python3.8/site-packages/anndata/_core/anndata.py:121: ImplicitModificationWarning: Transforming to str index.\n",
      "  warnings.warn(\"Transforming to str index.\", ImplicitModificationWarning)\n"
     ]
    }
   ],
   "source": [
    "tile_mat_adata = anndata.AnnData(mat, obs=barcodes)"
   ]
  },
  {
   "cell_type": "code",
   "execution_count": 30,
   "metadata": {},
   "outputs": [
    {
     "data": {
      "text/plain": [
       "AnnData object with n_obs × n_vars = 16072 × 6062129\n",
       "    obs: 'barcode'"
      ]
     },
     "execution_count": 30,
     "metadata": {},
     "output_type": "execute_result"
    }
   ],
   "source": [
    "tile_mat_adata"
   ]
  },
  {
   "cell_type": "code",
   "execution_count": 31,
   "metadata": {},
   "outputs": [
    {
     "data": {
      "text/plain": [
       "0      497913\n",
       "1      765508\n",
       "2     1035682\n",
       "3     1302233\n",
       "4     1530962\n",
       "5     1745050\n",
       "6     1949033\n",
       "7     2129710\n",
       "8     2296225\n",
       "9     2456972\n",
       "10    2574208\n",
       "11    3058596\n",
       "12    3187485\n",
       "13    3280905\n",
       "14    3382542\n",
       "15    3779134\n",
       "16    4159564\n",
       "17    4522641\n",
       "18    4864253\n",
       "19    5182945\n",
       "20    5473223\n",
       "21    5750013\n",
       "22    5750047\n",
       "23    6062129\n",
       "Name: num_bins, dtype: int64"
      ]
     },
     "execution_count": 31,
     "metadata": {},
     "output_type": "execute_result"
    }
   ],
   "source": [
    "chromosome_size['num_bins'].cumsum()"
   ]
  },
  {
   "cell_type": "code",
   "execution_count": 32,
   "metadata": {},
   "outputs": [],
   "source": [
    "def get_tile_name_df(): \n",
    "    tile_name_df = pd.DataFrame(list(zip(np.arange(0, tile_mat_adata.shape[1]) * TILE_SIZE, np.arange(0, tile_mat_adata.shape[1]) * TILE_SIZE +  TILE_SIZE - 1)), columns=['start', 'end'])\n",
    "    tile_name_df['chromosome'] = np.nan\n",
    "    for i in range(len(chromosome_size)): \n",
    "        chromosome_name = chromosome_size.iloc[i]['Chromosome']\n",
    "        if i == 0: \n",
    "            bin_range_start = 0 \n",
    "        else: \n",
    "            bin_range_start = chromosome_size['num_bins'].cumsum().iloc[i-1]\n",
    "        \n",
    "        bin_range_end = chromosome_size['num_bins'].cumsum().iloc[i]\n",
    "        \n",
    "        tile_name_df['chromosome'].iloc[bin_range_start: bin_range_end] = chromosome_name\n",
    "    \n",
    "    return tile_name_df"
   ]
  },
  {
   "cell_type": "code",
   "execution_count": 33,
   "metadata": {},
   "outputs": [
    {
     "name": "stderr",
     "output_type": "stream",
     "text": [
      "/scratch/lsftmp/7511473.tmpdir/ipykernel_110859/1221206256.py:13: SettingWithCopyWarning: \n",
      "A value is trying to be set on a copy of a slice from a DataFrame\n",
      "\n",
      "See the caveats in the documentation: https://pandas.pydata.org/pandas-docs/stable/user_guide/indexing.html#returning-a-view-versus-a-copy\n",
      "  tile_name_df['chromosome'].iloc[bin_range_start: bin_range_end] = chromosome_name\n"
     ]
    }
   ],
   "source": [
    "tile_name_df = get_tile_name_df()"
   ]
  },
  {
   "cell_type": "code",
   "execution_count": 34,
   "metadata": {},
   "outputs": [
    {
     "data": {
      "text/html": [
       "<div>\n",
       "<style scoped>\n",
       "    .dataframe tbody tr th:only-of-type {\n",
       "        vertical-align: middle;\n",
       "    }\n",
       "\n",
       "    .dataframe tbody tr th {\n",
       "        vertical-align: top;\n",
       "    }\n",
       "\n",
       "    .dataframe thead th {\n",
       "        text-align: right;\n",
       "    }\n",
       "</style>\n",
       "<table border=\"1\" class=\"dataframe\">\n",
       "  <thead>\n",
       "    <tr style=\"text-align: right;\">\n",
       "      <th></th>\n",
       "      <th>start</th>\n",
       "      <th>end</th>\n",
       "      <th>chromosome</th>\n",
       "    </tr>\n",
       "  </thead>\n",
       "  <tbody>\n",
       "    <tr>\n",
       "      <th>0</th>\n",
       "      <td>0</td>\n",
       "      <td>499</td>\n",
       "      <td>chr1</td>\n",
       "    </tr>\n",
       "    <tr>\n",
       "      <th>1</th>\n",
       "      <td>500</td>\n",
       "      <td>999</td>\n",
       "      <td>chr1</td>\n",
       "    </tr>\n",
       "    <tr>\n",
       "      <th>2</th>\n",
       "      <td>1000</td>\n",
       "      <td>1499</td>\n",
       "      <td>chr1</td>\n",
       "    </tr>\n",
       "    <tr>\n",
       "      <th>3</th>\n",
       "      <td>1500</td>\n",
       "      <td>1999</td>\n",
       "      <td>chr1</td>\n",
       "    </tr>\n",
       "    <tr>\n",
       "      <th>4</th>\n",
       "      <td>2000</td>\n",
       "      <td>2499</td>\n",
       "      <td>chr1</td>\n",
       "    </tr>\n",
       "    <tr>\n",
       "      <th>...</th>\n",
       "      <td>...</td>\n",
       "      <td>...</td>\n",
       "      <td>...</td>\n",
       "    </tr>\n",
       "    <tr>\n",
       "      <th>6062124</th>\n",
       "      <td>3031062000</td>\n",
       "      <td>3031062499</td>\n",
       "      <td>chrX</td>\n",
       "    </tr>\n",
       "    <tr>\n",
       "      <th>6062125</th>\n",
       "      <td>3031062500</td>\n",
       "      <td>3031062999</td>\n",
       "      <td>chrX</td>\n",
       "    </tr>\n",
       "    <tr>\n",
       "      <th>6062126</th>\n",
       "      <td>3031063000</td>\n",
       "      <td>3031063499</td>\n",
       "      <td>chrX</td>\n",
       "    </tr>\n",
       "    <tr>\n",
       "      <th>6062127</th>\n",
       "      <td>3031063500</td>\n",
       "      <td>3031063999</td>\n",
       "      <td>chrX</td>\n",
       "    </tr>\n",
       "    <tr>\n",
       "      <th>6062128</th>\n",
       "      <td>3031064000</td>\n",
       "      <td>3031064499</td>\n",
       "      <td>chrX</td>\n",
       "    </tr>\n",
       "  </tbody>\n",
       "</table>\n",
       "<p>6062129 rows × 3 columns</p>\n",
       "</div>"
      ],
      "text/plain": [
       "              start         end chromosome\n",
       "0                 0         499       chr1\n",
       "1               500         999       chr1\n",
       "2              1000        1499       chr1\n",
       "3              1500        1999       chr1\n",
       "4              2000        2499       chr1\n",
       "...             ...         ...        ...\n",
       "6062124  3031062000  3031062499       chrX\n",
       "6062125  3031062500  3031062999       chrX\n",
       "6062126  3031063000  3031063499       chrX\n",
       "6062127  3031063500  3031063999       chrX\n",
       "6062128  3031064000  3031064499       chrX\n",
       "\n",
       "[6062129 rows x 3 columns]"
      ]
     },
     "execution_count": 34,
     "metadata": {},
     "output_type": "execute_result"
    }
   ],
   "source": [
    "tile_name_df"
   ]
  },
  {
   "cell_type": "code",
   "execution_count": 35,
   "metadata": {},
   "outputs": [],
   "source": [
    "tile_mat_adata.var = tile_name_df"
   ]
  },
  {
   "cell_type": "code",
   "execution_count": 36,
   "metadata": {},
   "outputs": [
    {
     "data": {
      "text/plain": [
       "AnnData object with n_obs × n_vars = 16072 × 6062129\n",
       "    obs: 'barcode'\n",
       "    var: 'start', 'end', 'chromosome'"
      ]
     },
     "execution_count": 36,
     "metadata": {},
     "output_type": "execute_result"
    }
   ],
   "source": [
    "tile_mat_adata"
   ]
  },
  {
   "cell_type": "code",
   "execution_count": 37,
   "metadata": {},
   "outputs": [],
   "source": [
    "tile_mat_adata.write_h5ad(f'{OUTPUT_DIR}tile_matrix.h5ad')"
   ]
  },
  {
   "cell_type": "markdown",
   "metadata": {},
   "source": [
    "# Step 3: Bin selection"
   ]
  },
  {
   "cell_type": "code",
   "execution_count": 38,
   "metadata": {},
   "outputs": [],
   "source": [
    "def select_bins(pctl): \n",
    "    tile_accessibility_score = np.asarray(tile_mat_adata.X.sum(axis=0))[0]\n",
    "    threshold = np.quantile(np.array(tile_accessibility_score), pctl)\n",
    "    bins = np.array(tile_mat_adata[:,tile_accessibility_score > threshold].var.copy().index)\n",
    "    return bins \n",
    "\n",
    "def subset_frag(bins):\n",
    "    bins = np.unique(np.concatenate([bins - 1, bins, bins + 1]))\n",
    "    frag_subset = frag[frag['start_bin'].isin(bins) | frag['end_bin'].isin(bins)]\n",
    "    return frag_subset\n",
    "    "
   ]
  },
  {
   "cell_type": "code",
   "execution_count": 39,
   "metadata": {},
   "outputs": [
    {
     "data": {
      "text/plain": [
       "0      497913\n",
       "1      765508\n",
       "2     1035682\n",
       "3     1302233\n",
       "4     1530962\n",
       "5     1745050\n",
       "6     1949033\n",
       "7     2129710\n",
       "8     2296225\n",
       "9     2456972\n",
       "10    2574208\n",
       "11    3058596\n",
       "12    3187485\n",
       "13    3280905\n",
       "14    3382542\n",
       "15    3779134\n",
       "16    4159564\n",
       "17    4522641\n",
       "18    4864253\n",
       "19    5182945\n",
       "20    5473223\n",
       "21    5750013\n",
       "22    5750047\n",
       "23    6062129\n",
       "Name: num_bins, dtype: int64"
      ]
     },
     "execution_count": 39,
     "metadata": {},
     "output_type": "execute_result"
    }
   ],
   "source": [
    "chromosome_size['num_bins'].cumsum()"
   ]
  },
  {
   "cell_type": "code",
   "execution_count": 40,
   "metadata": {},
   "outputs": [],
   "source": [
    "bins = select_bins(0.985)\n",
    "frag_subset = subset_frag(bins)"
   ]
  },
  {
   "cell_type": "markdown",
   "metadata": {},
   "source": [
    "# Step 4: Construct Cell x Chromosome coverage matrix"
   ]
  },
  {
   "cell_type": "code",
   "execution_count": 41,
   "metadata": {},
   "outputs": [
    {
     "name": "stderr",
     "output_type": "stream",
     "text": [
      "/scratch/lsftmp/7511473.tmpdir/ipykernel_110859/1472864253.py:1: SettingWithCopyWarning: \n",
      "A value is trying to be set on a copy of a slice from a DataFrame.\n",
      "Try using .loc[row_indexer,col_indexer] = value instead\n",
      "\n",
      "See the caveats in the documentation: https://pandas.pydata.org/pandas-docs/stable/user_guide/indexing.html#returning-a-view-versus-a-copy\n",
      "  frag_subset['length'] = frag_subset['end'] - frag_subset['start'] + 1\n"
     ]
    }
   ],
   "source": [
    "frag_subset['length'] = frag_subset['end'] - frag_subset['start'] + 1 "
   ]
  },
  {
   "cell_type": "code",
   "execution_count": 42,
   "metadata": {},
   "outputs": [],
   "source": [
    "# remove frags in deleted region\n",
    "mito_frags = frag_subset[frag_subset['chromosome'] == 'chrM']"
   ]
  },
  {
   "cell_type": "code",
   "execution_count": 43,
   "metadata": {},
   "outputs": [],
   "source": [
    "del_start = 8013\n",
    "del_end = 11460\n",
    "remove_idx = mito_frags[(mito_frags['start'] > del_start) & (mito_frags['end'] < del_end)].index"
   ]
  },
  {
   "cell_type": "code",
   "execution_count": 44,
   "metadata": {},
   "outputs": [],
   "source": [
    "frag_subset_filtered = frag_subset.drop(remove_idx)"
   ]
  },
  {
   "cell_type": "code",
   "execution_count": 45,
   "metadata": {},
   "outputs": [
    {
     "name": "stdout",
     "output_type": "stream",
     "text": [
      "229549142\n",
      "220378818\n"
     ]
    }
   ],
   "source": [
    "print(frag_subset.shape[0])\n",
    "print(frag_subset_filtered.shape[0])"
   ]
  },
  {
   "cell_type": "code",
   "execution_count": 46,
   "metadata": {},
   "outputs": [],
   "source": [
    "def compute_cell_x_chromosome_coverage_df(frag):\n",
    "    pivot_df = pd.pivot_table(frag, values='length', index='barcode', columns='chromosome', aggfunc='sum', fill_value=0)\n",
    "    return pivot_df"
   ]
  },
  {
   "cell_type": "code",
   "execution_count": 47,
   "metadata": {},
   "outputs": [],
   "source": [
    "cell_x_chromosome_coverage_df = compute_cell_x_chromosome_coverage_df(frag_subset_filtered)"
   ]
  },
  {
   "cell_type": "code",
   "execution_count": 48,
   "metadata": {},
   "outputs": [
    {
     "data": {
      "text/html": [
       "<div>\n",
       "<style scoped>\n",
       "    .dataframe tbody tr th:only-of-type {\n",
       "        vertical-align: middle;\n",
       "    }\n",
       "\n",
       "    .dataframe tbody tr th {\n",
       "        vertical-align: top;\n",
       "    }\n",
       "\n",
       "    .dataframe thead th {\n",
       "        text-align: right;\n",
       "    }\n",
       "</style>\n",
       "<table border=\"1\" class=\"dataframe\">\n",
       "  <thead>\n",
       "    <tr style=\"text-align: right;\">\n",
       "      <th>chromosome</th>\n",
       "      <th>chr1</th>\n",
       "      <th>chr10</th>\n",
       "      <th>chr11</th>\n",
       "      <th>chr12</th>\n",
       "      <th>chr13</th>\n",
       "      <th>chr14</th>\n",
       "      <th>chr15</th>\n",
       "      <th>chr16</th>\n",
       "      <th>chr17</th>\n",
       "      <th>chr18</th>\n",
       "      <th>...</th>\n",
       "      <th>chr22</th>\n",
       "      <th>chr3</th>\n",
       "      <th>chr4</th>\n",
       "      <th>chr5</th>\n",
       "      <th>chr6</th>\n",
       "      <th>chr7</th>\n",
       "      <th>chr8</th>\n",
       "      <th>chr9</th>\n",
       "      <th>chrM</th>\n",
       "      <th>chrX</th>\n",
       "    </tr>\n",
       "    <tr>\n",
       "      <th>barcode</th>\n",
       "      <th></th>\n",
       "      <th></th>\n",
       "      <th></th>\n",
       "      <th></th>\n",
       "      <th></th>\n",
       "      <th></th>\n",
       "      <th></th>\n",
       "      <th></th>\n",
       "      <th></th>\n",
       "      <th></th>\n",
       "      <th></th>\n",
       "      <th></th>\n",
       "      <th></th>\n",
       "      <th></th>\n",
       "      <th></th>\n",
       "      <th></th>\n",
       "      <th></th>\n",
       "      <th></th>\n",
       "      <th></th>\n",
       "      <th></th>\n",
       "      <th></th>\n",
       "    </tr>\n",
       "  </thead>\n",
       "  <tbody>\n",
       "    <tr>\n",
       "      <th>AAACAGCCAAACAACA-1</th>\n",
       "      <td>56707</td>\n",
       "      <td>23002</td>\n",
       "      <td>26169</td>\n",
       "      <td>26100</td>\n",
       "      <td>8612</td>\n",
       "      <td>18199</td>\n",
       "      <td>19821</td>\n",
       "      <td>22159</td>\n",
       "      <td>26197</td>\n",
       "      <td>7895</td>\n",
       "      <td>...</td>\n",
       "      <td>11054</td>\n",
       "      <td>31314</td>\n",
       "      <td>22462</td>\n",
       "      <td>23197</td>\n",
       "      <td>26773</td>\n",
       "      <td>23360</td>\n",
       "      <td>18184</td>\n",
       "      <td>23141</td>\n",
       "      <td>181613</td>\n",
       "      <td>6035</td>\n",
       "    </tr>\n",
       "    <tr>\n",
       "      <th>AAACAGCCAAACATAG-1</th>\n",
       "      <td>79155</td>\n",
       "      <td>37411</td>\n",
       "      <td>49004</td>\n",
       "      <td>49349</td>\n",
       "      <td>20180</td>\n",
       "      <td>26294</td>\n",
       "      <td>25797</td>\n",
       "      <td>32290</td>\n",
       "      <td>44930</td>\n",
       "      <td>14694</td>\n",
       "      <td>...</td>\n",
       "      <td>22320</td>\n",
       "      <td>48436</td>\n",
       "      <td>41145</td>\n",
       "      <td>45022</td>\n",
       "      <td>42661</td>\n",
       "      <td>40443</td>\n",
       "      <td>38689</td>\n",
       "      <td>37338</td>\n",
       "      <td>389795</td>\n",
       "      <td>12460</td>\n",
       "    </tr>\n",
       "    <tr>\n",
       "      <th>AAACAGCCAACCCTCC-1</th>\n",
       "      <td>127704</td>\n",
       "      <td>59968</td>\n",
       "      <td>74653</td>\n",
       "      <td>56520</td>\n",
       "      <td>23771</td>\n",
       "      <td>44775</td>\n",
       "      <td>42466</td>\n",
       "      <td>45349</td>\n",
       "      <td>64574</td>\n",
       "      <td>19253</td>\n",
       "      <td>...</td>\n",
       "      <td>26084</td>\n",
       "      <td>76219</td>\n",
       "      <td>54328</td>\n",
       "      <td>64901</td>\n",
       "      <td>70070</td>\n",
       "      <td>57894</td>\n",
       "      <td>66399</td>\n",
       "      <td>51279</td>\n",
       "      <td>343359</td>\n",
       "      <td>20838</td>\n",
       "    </tr>\n",
       "    <tr>\n",
       "      <th>AAACAGCCAAGGACCA-1</th>\n",
       "      <td>2605</td>\n",
       "      <td>561</td>\n",
       "      <td>853</td>\n",
       "      <td>573</td>\n",
       "      <td>228</td>\n",
       "      <td>1064</td>\n",
       "      <td>262</td>\n",
       "      <td>673</td>\n",
       "      <td>1677</td>\n",
       "      <td>98</td>\n",
       "      <td>...</td>\n",
       "      <td>598</td>\n",
       "      <td>1574</td>\n",
       "      <td>1327</td>\n",
       "      <td>729</td>\n",
       "      <td>985</td>\n",
       "      <td>492</td>\n",
       "      <td>257</td>\n",
       "      <td>1343</td>\n",
       "      <td>120633</td>\n",
       "      <td>420</td>\n",
       "    </tr>\n",
       "    <tr>\n",
       "      <th>AAACAGCCAATACTGT-1</th>\n",
       "      <td>6587</td>\n",
       "      <td>3862</td>\n",
       "      <td>3510</td>\n",
       "      <td>4771</td>\n",
       "      <td>724</td>\n",
       "      <td>2319</td>\n",
       "      <td>2395</td>\n",
       "      <td>2176</td>\n",
       "      <td>2700</td>\n",
       "      <td>1269</td>\n",
       "      <td>...</td>\n",
       "      <td>1416</td>\n",
       "      <td>3480</td>\n",
       "      <td>2823</td>\n",
       "      <td>3258</td>\n",
       "      <td>4543</td>\n",
       "      <td>2042</td>\n",
       "      <td>2177</td>\n",
       "      <td>4250</td>\n",
       "      <td>35483</td>\n",
       "      <td>564</td>\n",
       "    </tr>\n",
       "    <tr>\n",
       "      <th>...</th>\n",
       "      <td>...</td>\n",
       "      <td>...</td>\n",
       "      <td>...</td>\n",
       "      <td>...</td>\n",
       "      <td>...</td>\n",
       "      <td>...</td>\n",
       "      <td>...</td>\n",
       "      <td>...</td>\n",
       "      <td>...</td>\n",
       "      <td>...</td>\n",
       "      <td>...</td>\n",
       "      <td>...</td>\n",
       "      <td>...</td>\n",
       "      <td>...</td>\n",
       "      <td>...</td>\n",
       "      <td>...</td>\n",
       "      <td>...</td>\n",
       "      <td>...</td>\n",
       "      <td>...</td>\n",
       "      <td>...</td>\n",
       "      <td>...</td>\n",
       "    </tr>\n",
       "    <tr>\n",
       "      <th>TTTGTTGGTTAGCAGC-1</th>\n",
       "      <td>68521</td>\n",
       "      <td>28960</td>\n",
       "      <td>39307</td>\n",
       "      <td>35160</td>\n",
       "      <td>12497</td>\n",
       "      <td>21873</td>\n",
       "      <td>19412</td>\n",
       "      <td>28406</td>\n",
       "      <td>36500</td>\n",
       "      <td>10922</td>\n",
       "      <td>...</td>\n",
       "      <td>15049</td>\n",
       "      <td>36784</td>\n",
       "      <td>25262</td>\n",
       "      <td>33144</td>\n",
       "      <td>37838</td>\n",
       "      <td>30132</td>\n",
       "      <td>26604</td>\n",
       "      <td>30399</td>\n",
       "      <td>201592</td>\n",
       "      <td>9613</td>\n",
       "    </tr>\n",
       "    <tr>\n",
       "      <th>TTTGTTGGTTCGGGAT-1</th>\n",
       "      <td>10292</td>\n",
       "      <td>3130</td>\n",
       "      <td>4724</td>\n",
       "      <td>4372</td>\n",
       "      <td>2708</td>\n",
       "      <td>3268</td>\n",
       "      <td>3292</td>\n",
       "      <td>2381</td>\n",
       "      <td>5538</td>\n",
       "      <td>1821</td>\n",
       "      <td>...</td>\n",
       "      <td>3383</td>\n",
       "      <td>7134</td>\n",
       "      <td>4928</td>\n",
       "      <td>5458</td>\n",
       "      <td>7903</td>\n",
       "      <td>5700</td>\n",
       "      <td>5350</td>\n",
       "      <td>3349</td>\n",
       "      <td>46649</td>\n",
       "      <td>781</td>\n",
       "    </tr>\n",
       "    <tr>\n",
       "      <th>TTTGTTGGTTGTGATG-1</th>\n",
       "      <td>65778</td>\n",
       "      <td>26236</td>\n",
       "      <td>43479</td>\n",
       "      <td>35316</td>\n",
       "      <td>16939</td>\n",
       "      <td>22958</td>\n",
       "      <td>24142</td>\n",
       "      <td>23402</td>\n",
       "      <td>44719</td>\n",
       "      <td>11452</td>\n",
       "      <td>...</td>\n",
       "      <td>11116</td>\n",
       "      <td>45183</td>\n",
       "      <td>28708</td>\n",
       "      <td>35477</td>\n",
       "      <td>40580</td>\n",
       "      <td>24376</td>\n",
       "      <td>25482</td>\n",
       "      <td>32033</td>\n",
       "      <td>194011</td>\n",
       "      <td>8945</td>\n",
       "    </tr>\n",
       "    <tr>\n",
       "      <th>TTTGTTGGTTGTTGCT-1</th>\n",
       "      <td>93471</td>\n",
       "      <td>46553</td>\n",
       "      <td>48050</td>\n",
       "      <td>47443</td>\n",
       "      <td>18784</td>\n",
       "      <td>32619</td>\n",
       "      <td>19458</td>\n",
       "      <td>40199</td>\n",
       "      <td>54533</td>\n",
       "      <td>18347</td>\n",
       "      <td>...</td>\n",
       "      <td>17212</td>\n",
       "      <td>60436</td>\n",
       "      <td>34506</td>\n",
       "      <td>47076</td>\n",
       "      <td>51475</td>\n",
       "      <td>43576</td>\n",
       "      <td>41706</td>\n",
       "      <td>45139</td>\n",
       "      <td>1879</td>\n",
       "      <td>12492</td>\n",
       "    </tr>\n",
       "    <tr>\n",
       "      <th>TTTGTTGGTTTCAGGA-1</th>\n",
       "      <td>177814</td>\n",
       "      <td>72267</td>\n",
       "      <td>101058</td>\n",
       "      <td>87474</td>\n",
       "      <td>35827</td>\n",
       "      <td>61256</td>\n",
       "      <td>59040</td>\n",
       "      <td>67019</td>\n",
       "      <td>97894</td>\n",
       "      <td>35801</td>\n",
       "      <td>...</td>\n",
       "      <td>48326</td>\n",
       "      <td>105617</td>\n",
       "      <td>75820</td>\n",
       "      <td>94807</td>\n",
       "      <td>95788</td>\n",
       "      <td>81818</td>\n",
       "      <td>69009</td>\n",
       "      <td>77608</td>\n",
       "      <td>622007</td>\n",
       "      <td>25145</td>\n",
       "    </tr>\n",
       "  </tbody>\n",
       "</table>\n",
       "<p>16072 rows × 24 columns</p>\n",
       "</div>"
      ],
      "text/plain": [
       "chromosome            chr1  chr10   chr11  chr12  chr13  chr14  chr15  chr16  \\\n",
       "barcode                                                                        \n",
       "AAACAGCCAAACAACA-1   56707  23002   26169  26100   8612  18199  19821  22159   \n",
       "AAACAGCCAAACATAG-1   79155  37411   49004  49349  20180  26294  25797  32290   \n",
       "AAACAGCCAACCCTCC-1  127704  59968   74653  56520  23771  44775  42466  45349   \n",
       "AAACAGCCAAGGACCA-1    2605    561     853    573    228   1064    262    673   \n",
       "AAACAGCCAATACTGT-1    6587   3862    3510   4771    724   2319   2395   2176   \n",
       "...                    ...    ...     ...    ...    ...    ...    ...    ...   \n",
       "TTTGTTGGTTAGCAGC-1   68521  28960   39307  35160  12497  21873  19412  28406   \n",
       "TTTGTTGGTTCGGGAT-1   10292   3130    4724   4372   2708   3268   3292   2381   \n",
       "TTTGTTGGTTGTGATG-1   65778  26236   43479  35316  16939  22958  24142  23402   \n",
       "TTTGTTGGTTGTTGCT-1   93471  46553   48050  47443  18784  32619  19458  40199   \n",
       "TTTGTTGGTTTCAGGA-1  177814  72267  101058  87474  35827  61256  59040  67019   \n",
       "\n",
       "chromosome          chr17  chr18  ...  chr22    chr3   chr4   chr5   chr6  \\\n",
       "barcode                           ...                                       \n",
       "AAACAGCCAAACAACA-1  26197   7895  ...  11054   31314  22462  23197  26773   \n",
       "AAACAGCCAAACATAG-1  44930  14694  ...  22320   48436  41145  45022  42661   \n",
       "AAACAGCCAACCCTCC-1  64574  19253  ...  26084   76219  54328  64901  70070   \n",
       "AAACAGCCAAGGACCA-1   1677     98  ...    598    1574   1327    729    985   \n",
       "AAACAGCCAATACTGT-1   2700   1269  ...   1416    3480   2823   3258   4543   \n",
       "...                   ...    ...  ...    ...     ...    ...    ...    ...   \n",
       "TTTGTTGGTTAGCAGC-1  36500  10922  ...  15049   36784  25262  33144  37838   \n",
       "TTTGTTGGTTCGGGAT-1   5538   1821  ...   3383    7134   4928   5458   7903   \n",
       "TTTGTTGGTTGTGATG-1  44719  11452  ...  11116   45183  28708  35477  40580   \n",
       "TTTGTTGGTTGTTGCT-1  54533  18347  ...  17212   60436  34506  47076  51475   \n",
       "TTTGTTGGTTTCAGGA-1  97894  35801  ...  48326  105617  75820  94807  95788   \n",
       "\n",
       "chromosome           chr7   chr8   chr9    chrM   chrX  \n",
       "barcode                                                 \n",
       "AAACAGCCAAACAACA-1  23360  18184  23141  181613   6035  \n",
       "AAACAGCCAAACATAG-1  40443  38689  37338  389795  12460  \n",
       "AAACAGCCAACCCTCC-1  57894  66399  51279  343359  20838  \n",
       "AAACAGCCAAGGACCA-1    492    257   1343  120633    420  \n",
       "AAACAGCCAATACTGT-1   2042   2177   4250   35483    564  \n",
       "...                   ...    ...    ...     ...    ...  \n",
       "TTTGTTGGTTAGCAGC-1  30132  26604  30399  201592   9613  \n",
       "TTTGTTGGTTCGGGAT-1   5700   5350   3349   46649    781  \n",
       "TTTGTTGGTTGTGATG-1  24376  25482  32033  194011   8945  \n",
       "TTTGTTGGTTGTTGCT-1  43576  41706  45139    1879  12492  \n",
       "TTTGTTGGTTTCAGGA-1  81818  69009  77608  622007  25145  \n",
       "\n",
       "[16072 rows x 24 columns]"
      ]
     },
     "execution_count": 48,
     "metadata": {},
     "output_type": "execute_result"
    }
   ],
   "source": [
    "cell_x_chromosome_coverage_df"
   ]
  },
  {
   "cell_type": "code",
   "execution_count": 49,
   "metadata": {},
   "outputs": [],
   "source": [
    "cell_x_chromosome_coverage_df.to_csv(f'{OUTPUT_DIR}cell_x_chromosome_coverage_df.csv')"
   ]
  },
  {
   "cell_type": "markdown",
   "metadata": {},
   "source": [
    "# Step 5: Compute copy number"
   ]
  },
  {
   "cell_type": "code",
   "execution_count": 50,
   "metadata": {},
   "outputs": [],
   "source": [
    "mito_non_deleted_len = 16569 - (11460 - 8013)"
   ]
  },
  {
   "cell_type": "code",
   "execution_count": 51,
   "metadata": {},
   "outputs": [],
   "source": [
    "def get_copy_estimates(cell_x_chromosome_coverage_df): \n",
    "    mito_coverage = cell_x_chromosome_coverage_df.values[:, -2]\n",
    "    nuclear_coverage = cell_x_chromosome_coverage_df.drop(columns=['chrM']).values\n",
    "    # mito_normalized_coverage = mito_coverage/chromosome_size[chromosome_size['Chromosome'] == 'chrM']['length'].iloc[0]\n",
    "    mito_normalized_coverage = mito_coverage/mito_non_deleted_len\n",
    "    nuclear_normalized_coverage = nuclear_coverage.sum(axis=1) / (len(bins) * TILE_SIZE)\n",
    "    copy_estimates = pd.DataFrame(2 / nuclear_normalized_coverage * mito_normalized_coverage, index = cell_x_chromosome_coverage_df.index, columns=['copy_number'])\n",
    "    return copy_estimates"
   ]
  },
  {
   "cell_type": "code",
   "execution_count": 52,
   "metadata": {},
   "outputs": [],
   "source": [
    "copy_estimates = get_copy_estimates(cell_x_chromosome_coverage_df)"
   ]
  },
  {
   "cell_type": "code",
   "execution_count": 53,
   "metadata": {},
   "outputs": [],
   "source": [
    "copy_estimates.to_csv(f'{OUTPUT_DIR}copy_estimates.csv')"
   ]
  },
  {
   "cell_type": "code",
   "execution_count": 54,
   "metadata": {},
   "outputs": [
    {
     "data": {
      "text/plain": [
       "<Axes: >"
      ]
     },
     "execution_count": 54,
     "metadata": {},
     "output_type": "execute_result"
    },
    {
     "data": {
      "image/png": "[encoded data removed]",
      "text/plain": [
       "<Figure size 1500x700 with 1 Axes>"
      ]
     },
     "metadata": {},
     "output_type": "display_data"
    }
   ],
   "source": [
    "copy_estimates['copy_number'].hist(bins=50, edgecolor='black')"
   ]
  },
  {
   "cell_type": "code",
   "execution_count": null,
   "metadata": {},
   "outputs": [],
   "source": []
  }
 ],
 "metadata": {
  "kernelspec": {
   "display_name": "scanpy",
   "language": "python",
   "name": "scanpy"
  },
  "language_info": {
   "codemirror_mode": {
    "name": "ipython",
    "version": 3
   },
   "file_extension": ".py",
   "mimetype": "text/x-python",
   "name": "python",
   "nbconvert_exporter": "python",
   "pygments_lexer": "ipython3",
   "version": "3.8.17"
  }
 },
 "nbformat": 4,
 "nbformat_minor": 4
}
